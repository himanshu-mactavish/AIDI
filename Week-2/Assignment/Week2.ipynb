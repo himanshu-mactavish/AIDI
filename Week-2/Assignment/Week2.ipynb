{
 "cells": [
  {
   "cell_type": "markdown",
   "metadata": {},
   "source": [
    "**Question 1. Choose a text analytic data set from kaggle (more than 1000 rows) and apply text preprocessing techniques.**\n",
    "\n",
    "\n",
    "* Examine the text data closely and see which set of stopwords you can add into your set.\n",
    "* what type of patterns should be deleted from the text\n",
    "* whether it requires lemmatization or stemming\n",
    "* output should be as clean as possible\n",
    "* special credits to some innovative techniques you can apply to clean the text apart from what discussed in the class"
   ]
  },
  {
   "cell_type": "code",
   "execution_count": 1,
   "metadata": {},
   "outputs": [],
   "source": [
    "import numpy as np\n",
    "import matplotlib.pyplot as plt\n",
    "import pandas as pd\n",
    "import string\n",
    "import math\n",
    "import re"
   ]
  },
  {
   "cell_type": "code",
   "execution_count": 2,
   "metadata": {},
   "outputs": [],
   "source": [
    "df=pd.read_csv(\"dataset.csv\",encoding=\"latin1\")"
   ]
  },
  {
   "cell_type": "code",
   "execution_count": 3,
   "metadata": {},
   "outputs": [
    {
     "data": {
      "text/plain": [
       "(3798, 6)"
      ]
     },
     "execution_count": 3,
     "metadata": {},
     "output_type": "execute_result"
    }
   ],
   "source": [
    "df.shape"
   ]
  },
  {
   "cell_type": "code",
   "execution_count": 4,
   "metadata": {},
   "outputs": [
    {
     "data": {
      "text/plain": [
       "UserName           0\n",
       "ScreenName         0\n",
       "Location         834\n",
       "TweetAt            0\n",
       "OriginalTweet      0\n",
       "Sentiment          0\n",
       "dtype: int64"
      ]
     },
     "execution_count": 4,
     "metadata": {},
     "output_type": "execute_result"
    }
   ],
   "source": [
    "df.isnull().sum(axis=0)"
   ]
  },
  {
   "cell_type": "code",
   "execution_count": 5,
   "metadata": {},
   "outputs": [
    {
     "data": {
      "text/html": [
       "<div>\n",
       "<style scoped>\n",
       "    .dataframe tbody tr th:only-of-type {\n",
       "        vertical-align: middle;\n",
       "    }\n",
       "\n",
       "    .dataframe tbody tr th {\n",
       "        vertical-align: top;\n",
       "    }\n",
       "\n",
       "    .dataframe thead th {\n",
       "        text-align: right;\n",
       "    }\n",
       "</style>\n",
       "<table border=\"1\" class=\"dataframe\">\n",
       "  <thead>\n",
       "    <tr style=\"text-align: right;\">\n",
       "      <th></th>\n",
       "      <th>UserName</th>\n",
       "      <th>ScreenName</th>\n",
       "      <th>Location</th>\n",
       "      <th>TweetAt</th>\n",
       "      <th>OriginalTweet</th>\n",
       "      <th>Sentiment</th>\n",
       "    </tr>\n",
       "  </thead>\n",
       "  <tbody>\n",
       "    <tr>\n",
       "      <th>0</th>\n",
       "      <td>1</td>\n",
       "      <td>44953</td>\n",
       "      <td>NYC</td>\n",
       "      <td>02-03-2020</td>\n",
       "      <td>TRENDING: New Yorkers encounter empty supermar...</td>\n",
       "      <td>Extremely Negative</td>\n",
       "    </tr>\n",
       "    <tr>\n",
       "      <th>1</th>\n",
       "      <td>2</td>\n",
       "      <td>44954</td>\n",
       "      <td>Seattle, WA</td>\n",
       "      <td>02-03-2020</td>\n",
       "      <td>When I couldn't find hand sanitizer at Fred Me...</td>\n",
       "      <td>Positive</td>\n",
       "    </tr>\n",
       "    <tr>\n",
       "      <th>2</th>\n",
       "      <td>3</td>\n",
       "      <td>44955</td>\n",
       "      <td>NaN</td>\n",
       "      <td>02-03-2020</td>\n",
       "      <td>Find out how you can protect yourself and love...</td>\n",
       "      <td>Extremely Positive</td>\n",
       "    </tr>\n",
       "    <tr>\n",
       "      <th>3</th>\n",
       "      <td>4</td>\n",
       "      <td>44956</td>\n",
       "      <td>Chicagoland</td>\n",
       "      <td>02-03-2020</td>\n",
       "      <td>#Panic buying hits #NewYork City as anxious sh...</td>\n",
       "      <td>Negative</td>\n",
       "    </tr>\n",
       "    <tr>\n",
       "      <th>4</th>\n",
       "      <td>5</td>\n",
       "      <td>44957</td>\n",
       "      <td>Melbourne, Victoria</td>\n",
       "      <td>03-03-2020</td>\n",
       "      <td>#toiletpaper #dunnypaper #coronavirus #coronav...</td>\n",
       "      <td>Neutral</td>\n",
       "    </tr>\n",
       "  </tbody>\n",
       "</table>\n",
       "</div>"
      ],
      "text/plain": [
       "   UserName  ScreenName             Location     TweetAt  \\\n",
       "0         1       44953                  NYC  02-03-2020   \n",
       "1         2       44954          Seattle, WA  02-03-2020   \n",
       "2         3       44955                  NaN  02-03-2020   \n",
       "3         4       44956          Chicagoland  02-03-2020   \n",
       "4         5       44957  Melbourne, Victoria  03-03-2020   \n",
       "\n",
       "                                       OriginalTweet           Sentiment  \n",
       "0  TRENDING: New Yorkers encounter empty supermar...  Extremely Negative  \n",
       "1  When I couldn't find hand sanitizer at Fred Me...            Positive  \n",
       "2  Find out how you can protect yourself and love...  Extremely Positive  \n",
       "3  #Panic buying hits #NewYork City as anxious sh...            Negative  \n",
       "4  #toiletpaper #dunnypaper #coronavirus #coronav...             Neutral  "
      ]
     },
     "execution_count": 5,
     "metadata": {},
     "output_type": "execute_result"
    }
   ],
   "source": [
    "df.head(5)"
   ]
  },
  {
   "cell_type": "markdown",
   "metadata": {},
   "source": [
    "Upper Casing"
   ]
  },
  {
   "cell_type": "code",
   "execution_count": 6,
   "metadata": {},
   "outputs": [],
   "source": [
    "df[\"OriginalTweet\"] = df[\"OriginalTweet\"].str.upper()"
   ]
  },
  {
   "cell_type": "code",
   "execution_count": 7,
   "metadata": {},
   "outputs": [
    {
     "data": {
      "text/plain": [
       "'FIND OUT HOW YOU CAN PROTECT YOURSELF AND LOVED ONES FROM #CORONAVIRUS. ?'"
      ]
     },
     "execution_count": 7,
     "metadata": {},
     "output_type": "execute_result"
    }
   ],
   "source": [
    "df['OriginalTweet'][2]"
   ]
  },
  {
   "cell_type": "code",
   "execution_count": 8,
   "metadata": {},
   "outputs": [],
   "source": [
    "df[\"OriginalTweet\"] = df[\"OriginalTweet\"].str.lower()"
   ]
  },
  {
   "cell_type": "markdown",
   "metadata": {},
   "source": [
    "**Removal of URLs**"
   ]
  },
  {
   "cell_type": "code",
   "execution_count": 9,
   "metadata": {},
   "outputs": [],
   "source": [
    "df['OriginalTweet'] = df['OriginalTweet'].apply(lambda x: re.split('HTTPS:\\/\\/.*', str(x))[0])"
   ]
  },
  {
   "cell_type": "code",
   "execution_count": 10,
   "metadata": {},
   "outputs": [
    {
     "data": {
      "text/plain": [
       "'trending: new yorkers encounter empty supermarket shelves (pictured, wegmans in brooklyn), sold-out online grocers (foodkick, maxdelivery) as #coronavirus-fearing shoppers stock up https://t.co/gr76pcrlwh https://t.co/ivmkmsqdt1'"
      ]
     },
     "execution_count": 10,
     "metadata": {},
     "output_type": "execute_result"
    }
   ],
   "source": [
    "df['OriginalTweet'][0]"
   ]
  },
  {
   "cell_type": "code",
   "execution_count": 11,
   "metadata": {},
   "outputs": [
    {
     "name": "stdout",
     "output_type": "stream",
     "text": [
      "Requirement already satisfied: pyspellchecker in /home/mac/anaconda3/lib/python3.9/site-packages (0.7.0)\n"
     ]
    }
   ],
   "source": [
    "! pip install pyspellchecker"
   ]
  },
  {
   "cell_type": "code",
   "execution_count": 12,
   "metadata": {},
   "outputs": [],
   "source": [
    "from spellchecker import SpellChecker"
   ]
  },
  {
   "cell_type": "code",
   "execution_count": 13,
   "metadata": {},
   "outputs": [],
   "source": [
    "spell = SpellChecker()\n",
    "def correct_spellings(text):\n",
    "    corrected_text = []\n",
    "    misspelled_words = spell.unknown(text.split())\n",
    "    for word in text.split():\n",
    "        if word in misspelled_words:\n",
    "            corrected_text.append(spell.correction(word))\n",
    "        else:\n",
    "            corrected_text.append(word)\n",
    "    return \" \".join(corrected_text)"
   ]
  },
  {
   "cell_type": "code",
   "execution_count": 16,
   "metadata": {},
   "outputs": [],
   "source": [
    "df['OriginalTweet']=df['OriginalTweet'].astype(str)"
   ]
  },
  {
   "cell_type": "code",
   "execution_count": 17,
   "metadata": {},
   "outputs": [
    {
     "ename": "TypeError",
     "evalue": "sequence item 14: expected str instance, NoneType found",
     "output_type": "error",
     "traceback": [
      "\u001b[0;31m---------------------------------------------------------------------------\u001b[0m",
      "\u001b[0;31mTypeError\u001b[0m                                 Traceback (most recent call last)",
      "\u001b[1;32m/mnt/c/Users/Himanshu MacTavish/dev-AI/AIDI1002/Week-2/Assignment/Week2.ipynb Cell 18\u001b[0m in \u001b[0;36m<cell line: 1>\u001b[0;34m()\u001b[0m\n\u001b[1;32m      <a href='vscode-notebook-cell://wsl%2Bubuntu/mnt/c/Users/Himanshu%20MacTavish/dev-AI/AIDI1002/Week-2/Assignment/Week2.ipynb#X23sdnNjb2RlLXJlbW90ZQ%3D%3D?line=0'>1</a>\u001b[0m \u001b[39mfor\u001b[39;00m i \u001b[39min\u001b[39;00m \u001b[39mrange\u001b[39m(\u001b[39mlen\u001b[39m(df\u001b[39m.\u001b[39mindex)):\n\u001b[0;32m----> <a href='vscode-notebook-cell://wsl%2Bubuntu/mnt/c/Users/Himanshu%20MacTavish/dev-AI/AIDI1002/Week-2/Assignment/Week2.ipynb#X23sdnNjb2RlLXJlbW90ZQ%3D%3D?line=1'>2</a>\u001b[0m   df[\u001b[39m'\u001b[39m\u001b[39mOriginalTweet\u001b[39m\u001b[39m'\u001b[39m][i]\u001b[39m=\u001b[39mcorrect_spellings((df[\u001b[39m'\u001b[39;49m\u001b[39mOriginalTweet\u001b[39;49m\u001b[39m'\u001b[39;49m][i]))\n",
      "\u001b[1;32m/mnt/c/Users/Himanshu MacTavish/dev-AI/AIDI1002/Week-2/Assignment/Week2.ipynb Cell 18\u001b[0m in \u001b[0;36mcorrect_spellings\u001b[0;34m(text)\u001b[0m\n\u001b[1;32m      <a href='vscode-notebook-cell://wsl%2Bubuntu/mnt/c/Users/Himanshu%20MacTavish/dev-AI/AIDI1002/Week-2/Assignment/Week2.ipynb#X23sdnNjb2RlLXJlbW90ZQ%3D%3D?line=7'>8</a>\u001b[0m     \u001b[39melse\u001b[39;00m:\n\u001b[1;32m      <a href='vscode-notebook-cell://wsl%2Bubuntu/mnt/c/Users/Himanshu%20MacTavish/dev-AI/AIDI1002/Week-2/Assignment/Week2.ipynb#X23sdnNjb2RlLXJlbW90ZQ%3D%3D?line=8'>9</a>\u001b[0m         corrected_text\u001b[39m.\u001b[39mappend(word)\n\u001b[0;32m---> <a href='vscode-notebook-cell://wsl%2Bubuntu/mnt/c/Users/Himanshu%20MacTavish/dev-AI/AIDI1002/Week-2/Assignment/Week2.ipynb#X23sdnNjb2RlLXJlbW90ZQ%3D%3D?line=9'>10</a>\u001b[0m \u001b[39mreturn\u001b[39;00m \u001b[39m\"\u001b[39;49m\u001b[39m \u001b[39;49m\u001b[39m\"\u001b[39;49m\u001b[39m.\u001b[39;49mjoin(corrected_text)\n",
      "\u001b[0;31mTypeError\u001b[0m: sequence item 14: expected str instance, NoneType found"
     ]
    }
   ],
   "source": [
    "for i in range(len(df.index)):\n",
    "  df['OriginalTweet'][i]=correct_spellings((df['OriginalTweet'][i]))"
   ]
  },
  {
   "cell_type": "markdown",
   "metadata": {},
   "source": [
    "Remove Hashtags #"
   ]
  },
  {
   "cell_type": "code",
   "execution_count": 19,
   "metadata": {},
   "outputs": [
    {
     "data": {
      "text/plain": [
       "'#panic buying hits #newyork city as anxious shoppers stock up on food&amp;medical supplies after #healthcare worker in her 30s becomes #bigapple 1st confirmed #coronavirus patient or a #bloomberg staged event?\\r\\r\\n\\r\\r\\nhttps://t.co/iasiregpc4\\r\\r\\n\\r\\r\\n#qanon #qanon2018 #qanon2020 \\r\\r\\n#election2020 #cdc https://t.co/29iszoewxu'"
      ]
     },
     "execution_count": 19,
     "metadata": {},
     "output_type": "execute_result"
    }
   ],
   "source": [
    "df['OriginalTweet'][3]"
   ]
  },
  {
   "cell_type": "code",
   "execution_count": 20,
   "metadata": {},
   "outputs": [],
   "source": [
    "df['OriginalTweet'] = df['OriginalTweet'].apply(lambda x: re.sub('#([a-zA-Z0-9_]{1,50})', '', str(x)))"
   ]
  },
  {
   "cell_type": "code",
   "execution_count": 21,
   "metadata": {},
   "outputs": [
    {
     "data": {
      "text/plain": [
       "' buying hits  city as anxious shoppers stock up on food&amp;medical supplies after  worker in her 30s becomes  1st confirmed  patient or a  staged event?\\r\\r\\n\\r\\r\\nhttps://t.co/iasiregpc4\\r\\r\\n\\r\\r\\n   \\r\\r\\n  https://t.co/29iszoewxu'"
      ]
     },
     "execution_count": 21,
     "metadata": {},
     "output_type": "execute_result"
    }
   ],
   "source": [
    "df['OriginalTweet'][3]"
   ]
  },
  {
   "cell_type": "markdown",
   "metadata": {},
   "source": [
    "Remove Mentions @"
   ]
  },
  {
   "cell_type": "code",
   "execution_count": 22,
   "metadata": {},
   "outputs": [
    {
     "data": {
      "text/plain": [
       "'@drtedros \"we canâ\\x92t stop  without protecting .\\r\\r\\nprices of surgical masks have increased six-fold, n95 respirators have more than trebled &amp; gowns cost twice as much\"-@drtedros '"
      ]
     },
     "execution_count": 22,
     "metadata": {},
     "output_type": "execute_result"
    }
   ],
   "source": [
    "df['OriginalTweet'][7]"
   ]
  },
  {
   "cell_type": "code",
   "execution_count": 23,
   "metadata": {},
   "outputs": [],
   "source": [
    "df['OriginalTweet'] = df['OriginalTweet'].apply(lambda x: re.sub('@[A-Za-z0-9_]+', '', str(x)))"
   ]
  },
  {
   "cell_type": "code",
   "execution_count": 24,
   "metadata": {},
   "outputs": [
    {
     "data": {
      "text/plain": [
       "' \"we canâ\\x92t stop  without protecting .\\r\\r\\nprices of surgical masks have increased six-fold, n95 respirators have more than trebled &amp; gowns cost twice as much\"- '"
      ]
     },
     "execution_count": 24,
     "metadata": {},
     "output_type": "execute_result"
    }
   ],
   "source": [
    "df['OriginalTweet'][7]"
   ]
  },
  {
   "cell_type": "markdown",
   "metadata": {},
   "source": [
    "Removal of Punctuations"
   ]
  },
  {
   "cell_type": "code",
   "execution_count": 25,
   "metadata": {},
   "outputs": [
    {
     "data": {
      "text/plain": [
       "' \"we canâ\\x92t stop  without protecting .\\r\\r\\nprices of surgical masks have increased six-fold, n95 respirators have more than trebled &amp; gowns cost twice as much\"- '"
      ]
     },
     "execution_count": 25,
     "metadata": {},
     "output_type": "execute_result"
    }
   ],
   "source": [
    "df['OriginalTweet'][7]"
   ]
  },
  {
   "cell_type": "code",
   "execution_count": 26,
   "metadata": {},
   "outputs": [],
   "source": [
    "df['OriginalTweet'] = df['OriginalTweet'].apply(lambda x: re.sub('[%s]' % re.escape(string.punctuation), '' , x))"
   ]
  },
  {
   "cell_type": "code",
   "execution_count": 27,
   "metadata": {},
   "outputs": [
    {
     "data": {
      "text/plain": [
       "' we canâ\\x92t stop  without protecting \\r\\r\\nprices of surgical masks have increased sixfold n95 respirators have more than trebled amp gowns cost twice as much '"
      ]
     },
     "execution_count": 27,
     "metadata": {},
     "output_type": "execute_result"
    }
   ],
   "source": [
    "df['OriginalTweet'][7]"
   ]
  },
  {
   "cell_type": "markdown",
   "metadata": {},
   "source": [
    "Remove Stopwords"
   ]
  },
  {
   "cell_type": "code",
   "execution_count": 28,
   "metadata": {},
   "outputs": [
    {
     "name": "stdout",
     "output_type": "stream",
     "text": [
      "Requirement already satisfied: nltk in /home/mac/anaconda3/lib/python3.9/site-packages (3.7)\n",
      "Requirement already satisfied: joblib in /home/mac/anaconda3/lib/python3.9/site-packages (from nltk) (1.1.0)\n",
      "Requirement already satisfied: click in /home/mac/anaconda3/lib/python3.9/site-packages (from nltk) (8.0.4)\n",
      "Requirement already satisfied: tqdm in /home/mac/anaconda3/lib/python3.9/site-packages (from nltk) (4.64.0)\n",
      "Requirement already satisfied: regex>=2021.8.3 in /home/mac/anaconda3/lib/python3.9/site-packages (from nltk) (2022.3.15)\n"
     ]
    }
   ],
   "source": [
    "! pip install nltk"
   ]
  },
  {
   "cell_type": "code",
   "execution_count": 29,
   "metadata": {},
   "outputs": [
    {
     "name": "stderr",
     "output_type": "stream",
     "text": [
      "[nltk_data] Downloading package stopwords to /home/mac/nltk_data...\n",
      "[nltk_data]   Package stopwords is already up-to-date!\n"
     ]
    },
    {
     "data": {
      "text/plain": [
       "True"
      ]
     },
     "execution_count": 29,
     "metadata": {},
     "output_type": "execute_result"
    }
   ],
   "source": [
    "import nltk\n",
    "nltk.download('stopwords')"
   ]
  },
  {
   "cell_type": "code",
   "execution_count": 30,
   "metadata": {},
   "outputs": [],
   "source": [
    "from nltk.corpus import stopwords\n",
    "stop_words = set(stopwords.words('english'))\n",
    "stop_words.add('trending')\n",
    "stop_words.add('hi twitter')\n",
    "stop_words.add('hi all')\n",
    "stop_words.add('hey')\n",
    "stop_words.add('reminder')\n",
    "stop_words.add('hello everyone')\n",
    "stop_words.add('at first')\n",
    "def remove_stopwords(text):\n",
    "  return \" \".join([word for word in str(text).split() if word not in stop_words])\n",
    "df['OriginalTweet'] = df['OriginalTweet'].apply(lambda x: remove_stopwords(x))"
   ]
  },
  {
   "cell_type": "code",
   "execution_count": 31,
   "metadata": {},
   "outputs": [
    {
     "data": {
      "text/plain": [
       "'new yorkers encounter empty supermarket shelves pictured wegmans brooklyn soldout online grocers foodkick maxdelivery fearing shoppers stock httpstcogr76pcrlwh httpstcoivmkmsqdt1'"
      ]
     },
     "execution_count": 31,
     "metadata": {},
     "output_type": "execute_result"
    }
   ],
   "source": [
    "df['OriginalTweet'][0]"
   ]
  },
  {
   "cell_type": "markdown",
   "metadata": {},
   "source": [
    "Stemming"
   ]
  },
  {
   "cell_type": "code",
   "execution_count": 32,
   "metadata": {},
   "outputs": [],
   "source": [
    "from nltk.stem import PorterStemmer\n",
    "stemmer = PorterStemmer()\n",
    "def stem_words(text):\n",
    "    return \" \".join([stemmer.stem(word) for word in text.split()])\n",
    "df[\"OriginalTweet\"] = df['OriginalTweet'].apply(lambda x: stem_words(x))"
   ]
  },
  {
   "cell_type": "code",
   "execution_count": 33,
   "metadata": {},
   "outputs": [
    {
     "data": {
      "text/plain": [
       "'new yorker encount empti supermarket shelv pictur wegman brooklyn soldout onlin grocer foodkick maxdeliveri fear shopper stock httpstcogr76pcrlwh httpstcoivmkmsqdt1'"
      ]
     },
     "execution_count": 33,
     "metadata": {},
     "output_type": "execute_result"
    }
   ],
   "source": [
    "df[\"OriginalTweet\"][0]"
   ]
  },
  {
   "cell_type": "markdown",
   "metadata": {},
   "source": [
    "Lemmatizing"
   ]
  },
  {
   "cell_type": "code",
   "execution_count": 34,
   "metadata": {},
   "outputs": [
    {
     "name": "stderr",
     "output_type": "stream",
     "text": [
      "[nltk_data] Downloading package wordnet to /home/mac/nltk_data...\n",
      "[nltk_data]   Package wordnet is already up-to-date!\n"
     ]
    },
    {
     "data": {
      "text/plain": [
       "True"
      ]
     },
     "execution_count": 34,
     "metadata": {},
     "output_type": "execute_result"
    }
   ],
   "source": [
    "nltk.download('wordnet')"
   ]
  },
  {
   "cell_type": "code",
   "execution_count": 35,
   "metadata": {},
   "outputs": [
    {
     "name": "stderr",
     "output_type": "stream",
     "text": [
      "[nltk_data] Downloading package omw-1.4 to /home/mac/nltk_data...\n",
      "[nltk_data]   Package omw-1.4 is already up-to-date!\n"
     ]
    }
   ],
   "source": [
    "import nltk\n",
    "nltk.download('omw-1.4')\n",
    "from nltk.stem import WordNetLemmatizer\n",
    "lemmatizer = WordNetLemmatizer()\n",
    "def lemmatize_words(text):\n",
    "  return \" \".join([lemmatizer.lemmatize(word) for word in text.split()])\n",
    "df[\"OriginalTweet\"] = df['OriginalTweet'].apply(lambda text: lemmatize_words(text))"
   ]
  },
  {
   "cell_type": "code",
   "execution_count": 36,
   "metadata": {},
   "outputs": [
    {
     "data": {
      "text/plain": [
       "'new yorker encount empti supermarket shelv pictur wegman brooklyn soldout onlin grocer foodkick maxdeliveri fear shopper stock httpstcogr76pcrlwh httpstcoivmkmsqdt1'"
      ]
     },
     "execution_count": 36,
     "metadata": {},
     "output_type": "execute_result"
    }
   ],
   "source": [
    "df['OriginalTweet'][0]"
   ]
  },
  {
   "cell_type": "markdown",
   "metadata": {},
   "source": [
    "**Question 2. Download the google.csv from the blackboard (Time series data set) and answer the following questions.**"
   ]
  },
  {
   "cell_type": "code",
   "execution_count": 37,
   "metadata": {},
   "outputs": [],
   "source": [
    "import numpy as np\n",
    "import matplotlib.pyplot as plt\n",
    "import pandas as pd\n",
    "import seaborn as sns\n",
    "import warnings\n",
    "warnings.filterwarnings('ignore')"
   ]
  },
  {
   "cell_type": "code",
   "execution_count": 38,
   "metadata": {},
   "outputs": [],
   "source": [
    "df = pd.read_csv(\"google.csv\")"
   ]
  },
  {
   "cell_type": "code",
   "execution_count": 41,
   "metadata": {},
   "outputs": [
    {
     "data": {
      "text/plain": [
       "Date          object\n",
       "Open         float64\n",
       "High         float64\n",
       "Low          float64\n",
       "Close        float64\n",
       "Adj Close    float64\n",
       "Volume         int64\n",
       "dtype: object"
      ]
     },
     "execution_count": 41,
     "metadata": {},
     "output_type": "execute_result"
    }
   ],
   "source": [
    "df.dtypes\n"
   ]
  },
  {
   "cell_type": "markdown",
   "metadata": {},
   "source": [
    "**i) Examine the correlation in data**"
   ]
  },
  {
   "cell_type": "code",
   "execution_count": 42,
   "metadata": {},
   "outputs": [
    {
     "data": {
      "text/html": [
       "<div>\n",
       "<style scoped>\n",
       "    .dataframe tbody tr th:only-of-type {\n",
       "        vertical-align: middle;\n",
       "    }\n",
       "\n",
       "    .dataframe tbody tr th {\n",
       "        vertical-align: top;\n",
       "    }\n",
       "\n",
       "    .dataframe thead th {\n",
       "        text-align: right;\n",
       "    }\n",
       "</style>\n",
       "<table border=\"1\" class=\"dataframe\">\n",
       "  <thead>\n",
       "    <tr style=\"text-align: right;\">\n",
       "      <th></th>\n",
       "      <th>Open</th>\n",
       "      <th>High</th>\n",
       "      <th>Low</th>\n",
       "      <th>Close</th>\n",
       "      <th>Adj Close</th>\n",
       "      <th>Volume</th>\n",
       "    </tr>\n",
       "  </thead>\n",
       "  <tbody>\n",
       "    <tr>\n",
       "      <th>Open</th>\n",
       "      <td>1.000000</td>\n",
       "      <td>0.999304</td>\n",
       "      <td>0.999166</td>\n",
       "      <td>0.998701</td>\n",
       "      <td>0.980822</td>\n",
       "      <td>-0.298361</td>\n",
       "    </tr>\n",
       "    <tr>\n",
       "      <th>High</th>\n",
       "      <td>0.999304</td>\n",
       "      <td>1.000000</td>\n",
       "      <td>0.998653</td>\n",
       "      <td>0.999301</td>\n",
       "      <td>0.978697</td>\n",
       "      <td>-0.289132</td>\n",
       "    </tr>\n",
       "    <tr>\n",
       "      <th>Low</th>\n",
       "      <td>0.999166</td>\n",
       "      <td>0.998653</td>\n",
       "      <td>1.000000</td>\n",
       "      <td>0.999262</td>\n",
       "      <td>0.984535</td>\n",
       "      <td>-0.306212</td>\n",
       "    </tr>\n",
       "    <tr>\n",
       "      <th>Close</th>\n",
       "      <td>0.998701</td>\n",
       "      <td>0.999301</td>\n",
       "      <td>0.999262</td>\n",
       "      <td>1.000000</td>\n",
       "      <td>0.982123</td>\n",
       "      <td>-0.296948</td>\n",
       "    </tr>\n",
       "    <tr>\n",
       "      <th>Adj Close</th>\n",
       "      <td>0.980822</td>\n",
       "      <td>0.978697</td>\n",
       "      <td>0.984535</td>\n",
       "      <td>0.982123</td>\n",
       "      <td>1.000000</td>\n",
       "      <td>-0.295280</td>\n",
       "    </tr>\n",
       "    <tr>\n",
       "      <th>Volume</th>\n",
       "      <td>-0.298361</td>\n",
       "      <td>-0.289132</td>\n",
       "      <td>-0.306212</td>\n",
       "      <td>-0.296948</td>\n",
       "      <td>-0.295280</td>\n",
       "      <td>1.000000</td>\n",
       "    </tr>\n",
       "  </tbody>\n",
       "</table>\n",
       "</div>"
      ],
      "text/plain": [
       "               Open      High       Low     Close  Adj Close    Volume\n",
       "Open       1.000000  0.999304  0.999166  0.998701   0.980822 -0.298361\n",
       "High       0.999304  1.000000  0.998653  0.999301   0.978697 -0.289132\n",
       "Low        0.999166  0.998653  1.000000  0.999262   0.984535 -0.306212\n",
       "Close      0.998701  0.999301  0.999262  1.000000   0.982123 -0.296948\n",
       "Adj Close  0.980822  0.978697  0.984535  0.982123   1.000000 -0.295280\n",
       "Volume    -0.298361 -0.289132 -0.306212 -0.296948  -0.295280  1.000000"
      ]
     },
     "execution_count": 42,
     "metadata": {},
     "output_type": "execute_result"
    }
   ],
   "source": [
    "a = df.corr();\n",
    "a"
   ]
  },
  {
   "cell_type": "code",
   "execution_count": 43,
   "metadata": {},
   "outputs": [
    {
     "data": {
      "image/png": "[encoded data removed]",
      "text/plain": [
       "<Figure size 432x288 with 2 Axes>"
      ]
     },
     "metadata": {
      "needs_background": "light"
     },
     "output_type": "display_data"
    }
   ],
   "source": [
    "sns.heatmap(a, annot = True)\n",
    "plt.show()"
   ]
  },
  {
   "cell_type": "markdown",
   "metadata": {},
   "source": [
    "**ii) Visualize the trend in volume of stock data**"
   ]
  },
  {
   "cell_type": "code",
   "execution_count": 44,
   "metadata": {},
   "outputs": [],
   "source": [
    "date = pd.to_datetime(df['Date'])\n",
    "year = date.dt.year"
   ]
  },
  {
   "cell_type": "code",
   "execution_count": 45,
   "metadata": {},
   "outputs": [
    {
     "data": {
      "image/png": "[encoded data removed]",
      "text/plain": [
       "<Figure size 864x432 with 1 Axes>"
      ]
     },
     "metadata": {
      "needs_background": "light"
     },
     "output_type": "display_data"
    }
   ],
   "source": [
    "xpoints = year\n",
    "ypoints = df[\"Volume\"]\n",
    "\n",
    "plt.figure(figsize=(12, 6))\n",
    "plt.bar(xpoints, ypoints)\n",
    "plt.scatter(xpoints, ypoints,color = \"red\")\n",
    "plt.plot(xpoints, ypoints,color = \"yellow\")\n",
    "\n",
    "plt.yticks(rotation = 45, ha = 'right')\n",
    "plt.ticklabel_format(style='plain',axis = \"y\")\n",
    "plt.xlabel(\"Years\",fontsize=12)\n",
    "plt.ylabel(\"Volume\",fontsize=12)\n",
    "\n",
    "plt.title(\"Trend of the Volume in Stock Data\",fontsize=15)\n",
    "plt.show()"
   ]
  },
  {
   "cell_type": "markdown",
   "metadata": {},
   "source": [
    "***General Analysis on the Intial Column of the data for Identifying the Mean, Min and Max according to each unique year by grouping according to the year.***"
   ]
  },
  {
   "cell_type": "code",
   "execution_count": 46,
   "metadata": {},
   "outputs": [],
   "source": [
    "df_Box1 = df[[\"Open\"]]\n",
    "df_Box1[\"Year\"] = year\n",
    "df_Box1 = pd.DataFrame(df_Box1)"
   ]
  },
  {
   "cell_type": "code",
   "execution_count": 47,
   "metadata": {},
   "outputs": [
    {
     "data": {
      "text/html": [
       "<div>\n",
       "<style scoped>\n",
       "    .dataframe tbody tr th:only-of-type {\n",
       "        vertical-align: middle;\n",
       "    }\n",
       "\n",
       "    .dataframe tbody tr th {\n",
       "        vertical-align: top;\n",
       "    }\n",
       "\n",
       "    .dataframe thead th {\n",
       "        text-align: right;\n",
       "    }\n",
       "</style>\n",
       "<table border=\"1\" class=\"dataframe\">\n",
       "  <thead>\n",
       "    <tr style=\"text-align: right;\">\n",
       "      <th></th>\n",
       "      <th>min</th>\n",
       "      <th>mean</th>\n",
       "      <th>max</th>\n",
       "    </tr>\n",
       "    <tr>\n",
       "      <th>Year</th>\n",
       "      <th></th>\n",
       "      <th></th>\n",
       "      <th></th>\n",
       "    </tr>\n",
       "  </thead>\n",
       "  <tbody>\n",
       "    <tr>\n",
       "      <th>1999</th>\n",
       "      <td>45.750000</td>\n",
       "      <td>45.750000</td>\n",
       "      <td>45.750000</td>\n",
       "    </tr>\n",
       "    <tr>\n",
       "      <th>2000</th>\n",
       "      <td>42.000000</td>\n",
       "      <td>71.338790</td>\n",
       "      <td>100.625000</td>\n",
       "    </tr>\n",
       "    <tr>\n",
       "      <th>2001</th>\n",
       "      <td>30.250000</td>\n",
       "      <td>44.190252</td>\n",
       "      <td>61.599998</td>\n",
       "    </tr>\n",
       "    <tr>\n",
       "      <th>2002</th>\n",
       "      <td>18.049999</td>\n",
       "      <td>32.663968</td>\n",
       "      <td>48.200001</td>\n",
       "    </tr>\n",
       "    <tr>\n",
       "      <th>2003</th>\n",
       "      <td>23.049999</td>\n",
       "      <td>36.151191</td>\n",
       "      <td>49.730000</td>\n",
       "    </tr>\n",
       "    <tr>\n",
       "      <th>2004</th>\n",
       "      <td>31.360001</td>\n",
       "      <td>43.036706</td>\n",
       "      <td>51.990002</td>\n",
       "    </tr>\n",
       "    <tr>\n",
       "      <th>2005</th>\n",
       "      <td>32.299999</td>\n",
       "      <td>36.688294</td>\n",
       "      <td>41.320000</td>\n",
       "    </tr>\n",
       "    <tr>\n",
       "      <th>2006</th>\n",
       "      <td>26.959999</td>\n",
       "      <td>34.011315</td>\n",
       "      <td>41.000000</td>\n",
       "    </tr>\n",
       "    <tr>\n",
       "      <th>2007</th>\n",
       "      <td>30.570000</td>\n",
       "      <td>35.587689</td>\n",
       "      <td>40.900002</td>\n",
       "    </tr>\n",
       "    <tr>\n",
       "      <th>2008</th>\n",
       "      <td>15.580000</td>\n",
       "      <td>27.527945</td>\n",
       "      <td>36.080002</td>\n",
       "    </tr>\n",
       "    <tr>\n",
       "      <th>2009</th>\n",
       "      <td>18.059999</td>\n",
       "      <td>24.512817</td>\n",
       "      <td>31.730000</td>\n",
       "    </tr>\n",
       "    <tr>\n",
       "      <th>2010</th>\n",
       "      <td>26.500000</td>\n",
       "      <td>30.728016</td>\n",
       "      <td>38.450001</td>\n",
       "    </tr>\n",
       "    <tr>\n",
       "      <th>2011</th>\n",
       "      <td>30.450001</td>\n",
       "      <td>36.828889</td>\n",
       "      <td>42.669998</td>\n",
       "    </tr>\n",
       "    <tr>\n",
       "      <th>2012</th>\n",
       "      <td>34.250000</td>\n",
       "      <td>38.891800</td>\n",
       "      <td>42.389999</td>\n",
       "    </tr>\n",
       "    <tr>\n",
       "      <th>2013</th>\n",
       "      <td>41.919998</td>\n",
       "      <td>46.562659</td>\n",
       "      <td>51.000000</td>\n",
       "    </tr>\n",
       "    <tr>\n",
       "      <th>2014</th>\n",
       "      <td>42.759998</td>\n",
       "      <td>51.418532</td>\n",
       "      <td>57.990002</td>\n",
       "    </tr>\n",
       "    <tr>\n",
       "      <th>2015</th>\n",
       "      <td>51.490002</td>\n",
       "      <td>59.676905</td>\n",
       "      <td>68.690002</td>\n",
       "    </tr>\n",
       "    <tr>\n",
       "      <th>2016</th>\n",
       "      <td>48.160000</td>\n",
       "      <td>60.169802</td>\n",
       "      <td>74.540001</td>\n",
       "    </tr>\n",
       "    <tr>\n",
       "      <th>2017</th>\n",
       "      <td>71.580002</td>\n",
       "      <td>81.856295</td>\n",
       "      <td>92.620003</td>\n",
       "    </tr>\n",
       "    <tr>\n",
       "      <th>2018</th>\n",
       "      <td>77.559998</td>\n",
       "      <td>91.994582</td>\n",
       "      <td>102.309998</td>\n",
       "    </tr>\n",
       "    <tr>\n",
       "      <th>2019</th>\n",
       "      <td>81.459999</td>\n",
       "      <td>108.701270</td>\n",
       "      <td>123.190002</td>\n",
       "    </tr>\n",
       "    <tr>\n",
       "      <th>2020</th>\n",
       "      <td>103.959999</td>\n",
       "      <td>116.196445</td>\n",
       "      <td>125.059998</td>\n",
       "    </tr>\n",
       "  </tbody>\n",
       "</table>\n",
       "</div>"
      ],
      "text/plain": [
       "             min        mean         max\n",
       "Year                                    \n",
       "1999   45.750000   45.750000   45.750000\n",
       "2000   42.000000   71.338790  100.625000\n",
       "2001   30.250000   44.190252   61.599998\n",
       "2002   18.049999   32.663968   48.200001\n",
       "2003   23.049999   36.151191   49.730000\n",
       "2004   31.360001   43.036706   51.990002\n",
       "2005   32.299999   36.688294   41.320000\n",
       "2006   26.959999   34.011315   41.000000\n",
       "2007   30.570000   35.587689   40.900002\n",
       "2008   15.580000   27.527945   36.080002\n",
       "2009   18.059999   24.512817   31.730000\n",
       "2010   26.500000   30.728016   38.450001\n",
       "2011   30.450001   36.828889   42.669998\n",
       "2012   34.250000   38.891800   42.389999\n",
       "2013   41.919998   46.562659   51.000000\n",
       "2014   42.759998   51.418532   57.990002\n",
       "2015   51.490002   59.676905   68.690002\n",
       "2016   48.160000   60.169802   74.540001\n",
       "2017   71.580002   81.856295   92.620003\n",
       "2018   77.559998   91.994582  102.309998\n",
       "2019   81.459999  108.701270  123.190002\n",
       "2020  103.959999  116.196445  125.059998"
      ]
     },
     "execution_count": 47,
     "metadata": {},
     "output_type": "execute_result"
    }
   ],
   "source": [
    "a = df_Box1.groupby(df_Box1['Year'])['Open'].agg(['min', 'mean', 'max'])\n",
    "a"
   ]
  },
  {
   "cell_type": "markdown",
   "metadata": {},
   "source": [
    "*Common Function for Detecting Outliers*\n",
    "\n",
    "This takes numeric data as an input argument then we find the mean and standard deviation of the all the data points.\n",
    "\n",
    "We find the z score for each of the data point in the dataset and if the z score is greater than 3 than we can classify that point as an outlier. Any point outside of 3 standard deviations would be an outlier."
   ]
  },
  {
   "cell_type": "code",
   "execution_count": 48,
   "metadata": {},
   "outputs": [],
   "source": [
    "def detect_outlier(data_1):\n",
    "    outliers=[]\n",
    "    threshold=3\n",
    "    mean_1 = np.mean(data_1)\n",
    "    std_1 =np.std(data_1)\n",
    "    \n",
    "    \n",
    "    for y in data_1:\n",
    "        z_score= (y - mean_1)/std_1 \n",
    "        if np.abs(z_score) > threshold:\n",
    "            outliers.append(y)\n",
    "    return outliers"
   ]
  },
  {
   "cell_type": "markdown",
   "metadata": {},
   "source": [
    "**iii) Visualize the outliers**"
   ]
  },
  {
   "cell_type": "markdown",
   "metadata": {},
   "source": [
    "**Plotting the Data in Distribution and Box Plots**\n",
    "\n",
    "Using these plots we find the distribution if they are equally distributed or skewed towards one side and the Box plot shows how much data falls below the median and above it."
   ]
  },
  {
   "cell_type": "code",
   "execution_count": 49,
   "metadata": {},
   "outputs": [
    {
     "data": {
      "image/png": "[encoded data removed]",
      "text/plain": [
       "<Figure size 1152x360 with 2 Axes>"
      ]
     },
     "metadata": {
      "needs_background": "light"
     },
     "output_type": "display_data"
    }
   ],
   "source": [
    "plt.figure(figsize=(16,5))\n",
    "plt.subplot(1,2,1)\n",
    "sns.distplot(df.Open)\n",
    "plt.title(\"Distribution plot (Open)\")\n",
    "\n",
    "plt.subplot(1,2,2)\n",
    "sns.boxplot(df.Open)\n",
    "plt.title(\"Box Plot (Open)\")\n",
    "\n",
    "plt.show()"
   ]
  },
  {
   "cell_type": "markdown",
   "metadata": {},
   "source": [
    "**Using IQR for getting outlier points**\n",
    "\n",
    "The IQR tells how spread the middle values are. It can be used to tell when a value is too far from the middle.\n",
    "\n",
    "Arrange the data in increasing order then\n",
    "\n",
    "Calculate first(q1) and third quartile(q3) after which we Find interquartile range (q3-q1) also the bounds as follows\n",
    "\n",
    "Find lower bound q1*1.5\n",
    "\n",
    "Find upper bound q3*1.5\n",
    "\n",
    "Anything that lies outside of lower and upper bound is an outlier"
   ]
  },
  {
   "cell_type": "code",
   "execution_count": 50,
   "metadata": {},
   "outputs": [
    {
     "name": "stdout",
     "output_type": "stream",
     "text": [
      "The Lower Bound for (Open) is:  -2.6649995000000075\n",
      "The Upper Bound for (Open) is:  95.61499650000002\n",
      "The Outliers for (Open) are as follows\n",
      "[123.190002, 122.779999, 122.080002, 121.629997, 121.779999, 125.059998, 124.400002, 122.919998]\n"
     ]
    }
   ],
   "source": [
    "Open_sort = sorted(df[\"Open\"])\n",
    "q1, q3= np.percentile(df[\"Open\"],[25,75])\n",
    "iqr = q3 - q1\n",
    "lower_bound_open = q1 -(1.5 * iqr) \n",
    "upper_bound_open = q3 +(1.5 * iqr) \n",
    "\n",
    "print(\"The Lower Bound for (Open) is: \",lower_bound_open)\n",
    "print(\"The Upper Bound for (Open) is: \",upper_bound_open)\n",
    "\n",
    "outlier_datapoints_Open = detect_outlier(df.Open)\n",
    "print(\"The Outliers for (Open) are as follows\")\n",
    "print(outlier_datapoints_Open)"
   ]
  },
  {
   "cell_type": "markdown",
   "metadata": {},
   "source": [
    " ***Repeating the same for High Column in the Dataset***"
   ]
  },
  {
   "cell_type": "code",
   "execution_count": 51,
   "metadata": {},
   "outputs": [
    {
     "data": {
      "image/png": "[encoded data removed]",
      "text/plain": [
       "<Figure size 1152x360 with 2 Axes>"
      ]
     },
     "metadata": {
      "needs_background": "light"
     },
     "output_type": "display_data"
    }
   ],
   "source": [
    "plt.figure(figsize=(16,5))\n",
    "plt.subplot(1,2,1)\n",
    "sns.distplot(df.High)\n",
    "plt.title(\"Distribution plot (High)\")\n",
    "\n",
    "plt.subplot(1,2,2)\n",
    "sns.boxplot(df.High)\n",
    "plt.title(\"Box Plot (High)\")\n",
    "\n",
    "plt.show()"
   ]
  },
  {
   "cell_type": "code",
   "execution_count": 52,
   "metadata": {},
   "outputs": [
    {
     "name": "stdout",
     "output_type": "stream",
     "text": [
      "The Lower Bound for (High) is:  -2.2750064999999964\n",
      "The Upper Bound for (High) is:  96.4850055\n",
      "The Outliers for (High) are as follows\n",
      "[124.790001, 124.099998, 123.040001, 127.300003, 125.57, 123.970001]\n"
     ]
    }
   ],
   "source": [
    "High_sort = sorted(df[\"High\"])\n",
    "q1, q3= np.percentile(df[\"High\"],[25,75])\n",
    "iqr = q3 - q1\n",
    "lower_bound_high = q1 -(1.5 * iqr) \n",
    "upper_bound_high = q3 +(1.5 * iqr) \n",
    "\n",
    "print(\"The Lower Bound for (High) is: \",lower_bound_high)\n",
    "print(\"The Upper Bound for (High) is: \",upper_bound_high)\n",
    "\n",
    "outlier_datapoints_High = detect_outlier(df.High)\n",
    "print(\"The Outliers for (High) are as follows\")\n",
    "print(outlier_datapoints_High)"
   ]
  },
  {
   "cell_type": "markdown",
   "metadata": {},
   "source": [
    "*Repeating the same for Low Column in the Dataset*"
   ]
  },
  {
   "cell_type": "code",
   "execution_count": 53,
   "metadata": {},
   "outputs": [
    {
     "data": {
      "image/png": "[encoded data removed]",
      "text/plain": [
       "<Figure size 1152x360 with 2 Axes>"
      ]
     },
     "metadata": {
      "needs_background": "light"
     },
     "output_type": "display_data"
    }
   ],
   "source": [
    "plt.figure(figsize=(16,5))\n",
    "plt.subplot(1,2,1)\n",
    "sns.distplot(df.Low)\n",
    "plt.title(\"Distribution plot (Low)\")\n",
    "\n",
    "plt.subplot(1,2,2)\n",
    "sns.boxplot(df.Low)\n",
    "plt.title(\"Box Plot (Low)\")\n",
    "\n",
    "plt.show()"
   ]
  },
  {
   "cell_type": "code",
   "execution_count": 54,
   "metadata": {},
   "outputs": [
    {
     "name": "stdout",
     "output_type": "stream",
     "text": [
      "The Lower Bound for (Low) is:  -2.8100079999999963\n",
      "The Upper Bound for (Low) is:  94.47000799999999\n",
      "The Outliers for (Low) are as follows\n",
      "[120.510002, 120.580002, 121.709999, 120.82, 122.389999, 122.370003, 120.809998]\n"
     ]
    }
   ],
   "source": [
    "Low_sort = sorted(df[\"Low\"])\n",
    "q1, q3= np.percentile(df[\"Low\"],[25,75])\n",
    "iqr = q3 - q1\n",
    "lower_bound_low = q1 -(1.5 * iqr) \n",
    "upper_bound_low = q3 +(1.5 * iqr) \n",
    "\n",
    "print(\"The Lower Bound for (Low) is: \",lower_bound_low)\n",
    "print(\"The Upper Bound for (Low) is: \",upper_bound_low)\n",
    "\n",
    "outlier_datapoints_Low = detect_outlier(df.Low)\n",
    "print(\"The Outliers for (Low) are as follows\")\n",
    "print(outlier_datapoints_Low)"
   ]
  },
  {
   "cell_type": "markdown",
   "metadata": {},
   "source": [
    "*Repeating the same for Close Column in the Dataset*"
   ]
  },
  {
   "cell_type": "code",
   "execution_count": 55,
   "metadata": {},
   "outputs": [
    {
     "data": {
      "image/png": "[encoded data removed]",
      "text/plain": [
       "<Figure size 1152x360 with 2 Axes>"
      ]
     },
     "metadata": {
      "needs_background": "light"
     },
     "output_type": "display_data"
    }
   ],
   "source": [
    "plt.figure(figsize=(16,5))\n",
    "plt.subplot(1,2,1)\n",
    "sns.distplot(df.Close)\n",
    "plt.title(\"Distribution plot (Close)\")\n",
    "\n",
    "plt.subplot(1,2,2)\n",
    "sns.boxplot(df.Close)\n",
    "plt.title(\"Box Plot (Close)\")\n",
    "\n",
    "plt.show()"
   ]
  },
  {
   "cell_type": "code",
   "execution_count": 56,
   "metadata": {},
   "outputs": [
    {
     "name": "stdout",
     "output_type": "stream",
     "text": [
      "The Lower Bound for (Close) is:  -2.799998500000008\n",
      "The Upper Bound for (Close) is:  95.7599975\n",
      "The Outliers for (Close) are as follows\n",
      "[124.639999, 122.18, 121.800003, 123.889999, 124.550003, 122.760002]\n"
     ]
    }
   ],
   "source": [
    "Close_sort = sorted(df[\"Close\"])\n",
    "q1, q3= np.percentile(df[\"Close\"],[25,75])\n",
    "iqr = q3 - q1\n",
    "lower_bound_close = q1 -(1.5 * iqr) \n",
    "upper_bound_close = q3 +(1.5 * iqr) \n",
    "\n",
    "print(\"The Lower Bound for (Close) is: \",lower_bound_close)\n",
    "print(\"The Upper Bound for (Close) is: \",upper_bound_close)\n",
    "\n",
    "outlier_datapoints_Close = detect_outlier(df.Close)\n",
    "print(\"The Outliers for (Close) are as follows\")\n",
    "print(outlier_datapoints_Close)"
   ]
  },
  {
   "cell_type": "markdown",
   "metadata": {},
   "source": [
    "*Repeating the same for Adj Close Column in the Dataset*"
   ]
  },
  {
   "cell_type": "code",
   "execution_count": 57,
   "metadata": {},
   "outputs": [
    {
     "data": {
      "image/png": "[encoded data removed]",
      "text/plain": [
       "<Figure size 1152x360 with 2 Axes>"
      ]
     },
     "metadata": {
      "needs_background": "light"
     },
     "output_type": "display_data"
    }
   ],
   "source": [
    "plt.figure(figsize=(16,5))\n",
    "plt.subplot(1,2,1)\n",
    "sns.distplot(df[\"Adj Close\"])\n",
    "plt.title(\"Distribution plot (Adj Close)\")\n",
    "\n",
    "plt.subplot(1,2,2)\n",
    "sns.boxplot(df[\"Adj Close\"])\n",
    "plt.title(\"Box Plot (Adj Close)\")\n",
    "\n",
    "plt.show()"
   ]
  },
  {
   "cell_type": "code",
   "execution_count": 58,
   "metadata": {},
   "outputs": [
    {
     "name": "stdout",
     "output_type": "stream",
     "text": [
      "The Lower Bound for (Adj Close) is:  -16.1569135\n",
      "The Upper Bound for (Adj Close) is:  91.79804250000001\n",
      "The Outliers for (Adj Close) are as follows\n",
      "[118.116135, 122.765144, 120.342148, 119.967865, 119.386734, 119.140495, 118.128777, 118.2183, 118.178513, 118.059158, 119.173111, 118.526619, 119.073654, 119.083603, 118.805107, 118.2183, 118.198402, 119.779823, 117.671265, 118.93441, 120.008583, 120.008583, 117.929863, 118.417213, 118.884682, 118.486839, 118.825005, 118.665863, 119.769875, 120.207497, 118.168564, 118.23819, 117.929863, 123.221138, 123.877579, 122.097244]\n"
     ]
    }
   ],
   "source": [
    "Close_sort = sorted(df[\"Adj Close\"])\n",
    "q1, q3= np.percentile(df[\"Adj Close\"],[25,75])\n",
    "iqr = q3 - q1\n",
    "lower_bound_adjclose = q1 -(1.5 * iqr) \n",
    "upper_bound_adjclose = q3 +(1.5 * iqr) \n",
    "\n",
    "print(\"The Lower Bound for (Adj Close) is: \",lower_bound_adjclose)\n",
    "print(\"The Upper Bound for (Adj Close) is: \",upper_bound_adjclose)\n",
    "\n",
    "outlier_datapoints_AdjClose = detect_outlier(df[\"Adj Close\"])\n",
    "print(\"The Outliers for (Adj Close) are as follows\")\n",
    "print(outlier_datapoints_AdjClose)"
   ]
  },
  {
   "cell_type": "markdown",
   "metadata": {},
   "source": [
    "*Repeating the same for Volume Column in the Dataset*"
   ]
  },
  {
   "cell_type": "code",
   "execution_count": 59,
   "metadata": {},
   "outputs": [
    {
     "data": {
      "image/png": "[encoded data removed]",
      "text/plain": [
       "<Figure size 1152x360 with 2 Axes>"
      ]
     },
     "metadata": {
      "needs_background": "light"
     },
     "output_type": "display_data"
    }
   ],
   "source": [
    "plt.figure(figsize=(16,5))\n",
    "plt.subplot(1,2,1)\n",
    "\n",
    "sns.distplot(df[\"Volume\"])\n",
    "plt.title(\"Distribution plot (Volume)\")\n",
    "plt.subplot(1,2,2)\n",
    "\n",
    "sns.boxplot(df[\"Volume\"])\n",
    "plt.title(\"Box Plot (Volume)\")\n",
    "\n",
    "plt.show()"
   ]
  },
  {
   "cell_type": "code",
   "execution_count": 60,
   "metadata": {},
   "outputs": [
    {
     "name": "stdout",
     "output_type": "stream",
     "text": [
      "The Lower Bound for (Volume) is:  -641250.0\n",
      "The Upper Bound for (Volume) is:  6843950.0\n",
      "The Outliers for (Volume) are as follows\n",
      "[11478600, 10253000, 9743600, 8694400, 11619400, 14827800, 12330900, 9405100, 14452300, 9311700, 9298400, 8899900, 8758100, 27748000, 9650300, 9443700, 9153100, 13706000, 17552400, 9493300, 11840800, 11062800, 12779300, 9216500, 9333600, 8962400, 9524500, 8642400, 10232200, 8983900, 11215100, 9382600, 9731600, 12015200, 11045400, 9566400, 9218300, 9542600, 8867900, 8783100, 9190500, 9714700, 10767400, 27693900, 9536500, 8904200, 11696100, 14627100, 10230000, 10258200, 12425800, 9662300, 11079100, 12363500, 8798300, 10044200, 9427700, 8762000, 11665300, 12990200, 9291000, 9435500, 11347400, 10052700, 10493700, 9485000, 11994700, 14963000, 14864300, 11366000, 8927600, 8580200, 10736900]\n"
     ]
    }
   ],
   "source": [
    "Volume_sort = sorted(df[\"Volume\"])\n",
    "q1, q3= np.percentile(df[\"Volume\"],[25,75])\n",
    "iqr = q3 - q1\n",
    "lower_bound_volume = q1 -(1.5 * iqr) \n",
    "upper_bound_volume = q3 +(1.5 * iqr) \n",
    "\n",
    "print(\"The Lower Bound for (Volume) is: \",lower_bound_volume)\n",
    "print(\"The Upper Bound for (Volume) is: \",upper_bound_volume)\n",
    "\n",
    "outlier_datapoints_Volume = detect_outlier(df[\"Volume\"])\n",
    "print(\"The Outliers for (Volume) are as follows\")\n",
    "print(outlier_datapoints_Volume)"
   ]
  },
  {
   "cell_type": "markdown",
   "metadata": {},
   "source": [
    "***iv) How many times open price surpassed the close price of the stock***"
   ]
  },
  {
   "cell_type": "code",
   "execution_count": 61,
   "metadata": {},
   "outputs": [
    {
     "data": {
      "text/plain": [
       "Surpassed    2579\n",
       "Short        2498\n",
       "Name: Open > Close, dtype: int64"
      ]
     },
     "execution_count": 61,
     "metadata": {},
     "output_type": "execute_result"
    }
   ],
   "source": [
    "df['Open > Close'] = np.where(df['Open']>=df['Close'], \n",
    "                                           'Surpassed', 'Short')\n",
    "\n",
    "df[\"Open > Close\"].value_counts()"
   ]
  },
  {
   "cell_type": "code",
   "execution_count": 62,
   "metadata": {},
   "outputs": [
    {
     "data": {
      "text/html": [
       "<div>\n",
       "<style scoped>\n",
       "    .dataframe tbody tr th:only-of-type {\n",
       "        vertical-align: middle;\n",
       "    }\n",
       "\n",
       "    .dataframe tbody tr th {\n",
       "        vertical-align: top;\n",
       "    }\n",
       "\n",
       "    .dataframe thead th {\n",
       "        text-align: right;\n",
       "    }\n",
       "</style>\n",
       "<table border=\"1\" class=\"dataframe\">\n",
       "  <thead>\n",
       "    <tr style=\"text-align: right;\">\n",
       "      <th></th>\n",
       "      <th>Date</th>\n",
       "      <th>Open</th>\n",
       "      <th>High</th>\n",
       "      <th>Low</th>\n",
       "      <th>Close</th>\n",
       "      <th>Adj Close</th>\n",
       "      <th>Volume</th>\n",
       "      <th>Open &gt; Close</th>\n",
       "    </tr>\n",
       "  </thead>\n",
       "  <tbody>\n",
       "    <tr>\n",
       "      <th>0</th>\n",
       "      <td>1999-12-31</td>\n",
       "      <td>45.750000</td>\n",
       "      <td>47.250000</td>\n",
       "      <td>45.656250</td>\n",
       "      <td>46.500000</td>\n",
       "      <td>31.572819</td>\n",
       "      <td>591800</td>\n",
       "      <td>Short</td>\n",
       "    </tr>\n",
       "    <tr>\n",
       "      <th>1</th>\n",
       "      <td>2000-01-03</td>\n",
       "      <td>46.750000</td>\n",
       "      <td>46.937500</td>\n",
       "      <td>44.000000</td>\n",
       "      <td>45.093750</td>\n",
       "      <td>30.618002</td>\n",
       "      <td>3655600</td>\n",
       "      <td>Surpassed</td>\n",
       "    </tr>\n",
       "    <tr>\n",
       "      <th>2</th>\n",
       "      <td>2000-01-04</td>\n",
       "      <td>44.750000</td>\n",
       "      <td>45.750000</td>\n",
       "      <td>42.781250</td>\n",
       "      <td>42.812500</td>\n",
       "      <td>29.069048</td>\n",
       "      <td>2533200</td>\n",
       "      <td>Surpassed</td>\n",
       "    </tr>\n",
       "    <tr>\n",
       "      <th>3</th>\n",
       "      <td>2000-01-05</td>\n",
       "      <td>42.812500</td>\n",
       "      <td>44.125000</td>\n",
       "      <td>41.593750</td>\n",
       "      <td>43.437500</td>\n",
       "      <td>29.493437</td>\n",
       "      <td>3228000</td>\n",
       "      <td>Short</td>\n",
       "    </tr>\n",
       "    <tr>\n",
       "      <th>4</th>\n",
       "      <td>2000-01-06</td>\n",
       "      <td>43.437500</td>\n",
       "      <td>43.812500</td>\n",
       "      <td>41.625000</td>\n",
       "      <td>42.250000</td>\n",
       "      <td>28.687130</td>\n",
       "      <td>2601000</td>\n",
       "      <td>Surpassed</td>\n",
       "    </tr>\n",
       "    <tr>\n",
       "      <th>...</th>\n",
       "      <td>...</td>\n",
       "      <td>...</td>\n",
       "      <td>...</td>\n",
       "      <td>...</td>\n",
       "      <td>...</td>\n",
       "      <td>...</td>\n",
       "      <td>...</td>\n",
       "      <td>...</td>\n",
       "    </tr>\n",
       "    <tr>\n",
       "      <th>5072</th>\n",
       "      <td>2020-03-02</td>\n",
       "      <td>110.089996</td>\n",
       "      <td>111.440002</td>\n",
       "      <td>107.239998</td>\n",
       "      <td>111.269997</td>\n",
       "      <td>111.269997</td>\n",
       "      <td>3979400</td>\n",
       "      <td>Short</td>\n",
       "    </tr>\n",
       "    <tr>\n",
       "      <th>5073</th>\n",
       "      <td>2020-03-03</td>\n",
       "      <td>110.129997</td>\n",
       "      <td>113.190002</td>\n",
       "      <td>106.570000</td>\n",
       "      <td>107.199997</td>\n",
       "      <td>107.199997</td>\n",
       "      <td>3416000</td>\n",
       "      <td>Surpassed</td>\n",
       "    </tr>\n",
       "    <tr>\n",
       "      <th>5074</th>\n",
       "      <td>2020-03-04</td>\n",
       "      <td>109.000000</td>\n",
       "      <td>112.540001</td>\n",
       "      <td>106.680000</td>\n",
       "      <td>112.459999</td>\n",
       "      <td>112.459999</td>\n",
       "      <td>2181000</td>\n",
       "      <td>Short</td>\n",
       "    </tr>\n",
       "    <tr>\n",
       "      <th>5075</th>\n",
       "      <td>2020-03-05</td>\n",
       "      <td>109.029999</td>\n",
       "      <td>112.070000</td>\n",
       "      <td>107.919998</td>\n",
       "      <td>108.870003</td>\n",
       "      <td>108.870003</td>\n",
       "      <td>2197200</td>\n",
       "      <td>Surpassed</td>\n",
       "    </tr>\n",
       "    <tr>\n",
       "      <th>5076</th>\n",
       "      <td>2020-03-06</td>\n",
       "      <td>105.000000</td>\n",
       "      <td>107.459999</td>\n",
       "      <td>104.510002</td>\n",
       "      <td>107.000000</td>\n",
       "      <td>107.000000</td>\n",
       "      <td>3801200</td>\n",
       "      <td>Short</td>\n",
       "    </tr>\n",
       "  </tbody>\n",
       "</table>\n",
       "<p>5077 rows × 8 columns</p>\n",
       "</div>"
      ],
      "text/plain": [
       "            Date        Open        High         Low       Close   Adj Close  \\\n",
       "0     1999-12-31   45.750000   47.250000   45.656250   46.500000   31.572819   \n",
       "1     2000-01-03   46.750000   46.937500   44.000000   45.093750   30.618002   \n",
       "2     2000-01-04   44.750000   45.750000   42.781250   42.812500   29.069048   \n",
       "3     2000-01-05   42.812500   44.125000   41.593750   43.437500   29.493437   \n",
       "4     2000-01-06   43.437500   43.812500   41.625000   42.250000   28.687130   \n",
       "...          ...         ...         ...         ...         ...         ...   \n",
       "5072  2020-03-02  110.089996  111.440002  107.239998  111.269997  111.269997   \n",
       "5073  2020-03-03  110.129997  113.190002  106.570000  107.199997  107.199997   \n",
       "5074  2020-03-04  109.000000  112.540001  106.680000  112.459999  112.459999   \n",
       "5075  2020-03-05  109.029999  112.070000  107.919998  108.870003  108.870003   \n",
       "5076  2020-03-06  105.000000  107.459999  104.510002  107.000000  107.000000   \n",
       "\n",
       "       Volume Open > Close  \n",
       "0      591800        Short  \n",
       "1     3655600    Surpassed  \n",
       "2     2533200    Surpassed  \n",
       "3     3228000        Short  \n",
       "4     2601000    Surpassed  \n",
       "...       ...          ...  \n",
       "5072  3979400        Short  \n",
       "5073  3416000    Surpassed  \n",
       "5074  2181000        Short  \n",
       "5075  2197200    Surpassed  \n",
       "5076  3801200        Short  \n",
       "\n",
       "[5077 rows x 8 columns]"
      ]
     },
     "execution_count": 62,
     "metadata": {},
     "output_type": "execute_result"
    }
   ],
   "source": [
    "df"
   ]
  }
 ],
 "metadata": {
  "kernelspec": {
   "display_name": "Python 3.9.12 ('base')",
   "language": "python",
   "name": "python3"
  },
  "language_info": {
   "codemirror_mode": {
    "name": "ipython",
    "version": 3
   },
   "file_extension": ".py",
   "mimetype": "text/x-python",
   "name": "python",
   "nbconvert_exporter": "python",
   "pygments_lexer": "ipython3",
   "version": "3.9.12"
  },
  "vscode": {
   "interpreter": {
    "hash": "366dab231cb466e8a63add091559c122d291638f7422193e57943ec7bafb8d0e"
   }
  }
 },
 "nbformat": 4,
 "nbformat_minor": 2
}
