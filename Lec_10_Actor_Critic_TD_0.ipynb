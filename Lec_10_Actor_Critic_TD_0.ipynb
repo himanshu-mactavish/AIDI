{
  "cells": [
    {
      "cell_type": "markdown",
      "metadata": {
        "id": "view-in-github",
        "colab_type": "text"
      },
      "source": [
        "<a href=\"https://colab.research.google.com/github/himanshu-mactavish/AIDI/blob/master/Lec_10_Actor_Critic_TD_0.ipynb\" target=\"_parent\"><img src=\"https://colab.research.google.com/assets/colab-badge.svg\" alt=\"Open In Colab\"/></a>"
      ]
    },
    {
      "cell_type": "code",
      "execution_count": null,
      "metadata": {
        "id": "644ZwyddeHZY"
      },
      "outputs": [],
      "source": [
        "import torch\n",
        "import torch.nn as nn\n",
        "import torch.nn.functional as F\n",
        "import torch.optim as optim\n",
        "from torch.distributions import Categorical\n",
        "\n",
        "import gym\n",
        "from tqdm import tqdm_notebook\n",
        "import numpy as np\n",
        "from collections import deque"
      ]
    },
    {
      "cell_type": "code",
      "execution_count": null,
      "metadata": {
        "colab": {
          "base_uri": "https://localhost:8080/"
        },
        "id": "WTTkcXV3eHZa",
        "outputId": "e80d60f6-4267-4aea-c3dd-fa944297e073"
      },
      "outputs": [
        {
          "output_type": "stream",
          "name": "stderr",
          "text": [
            "/usr/local/lib/python3.10/dist-packages/ipykernel/ipkernel.py:283: DeprecationWarning: `should_run_async` will not call `transform_cell` automatically in the future. Please pass the result to `transformed_cell` argument and any exception that happen during thetransform in `preprocessing_exc_tuple` in IPython 7.17 and above.\n",
            "  and should_run_async(code)\n"
          ]
        }
      ],
      "source": [
        "#discount factor for future utilities\n",
        "DISCOUNT_FACTOR = 0.99\n",
        "\n",
        "#number of episodes to run\n",
        "NUM_EPISODES = 1000\n",
        "\n",
        "#max steps per episode\n",
        "MAX_STEPS = 10000\n",
        "\n",
        "#score agent needs for environment to be solved\n",
        "SOLVED_SCORE = 195\n",
        "\n",
        "#device to run model on\n",
        "DEVICE = \"cuda\" if torch.cuda.is_available() else \"cpu\""
      ]
    },
    {
      "cell_type": "code",
      "execution_count": null,
      "metadata": {
        "id": "ff3l9L7MeHZa"
      },
      "outputs": [],
      "source": [
        "#Using a neural network to learn our policy parameters\n",
        "class PolicyNetwork(nn.Module):\n",
        "\n",
        "    #Takes in observations and outputs actions\n",
        "    def __init__(self, observation_space, action_space):\n",
        "        super(PolicyNetwork, self).__init__()\n",
        "        self.input_layer = nn.Linear(observation_space, 128)\n",
        "        self.output_layer = nn.Linear(128, action_space)\n",
        "\n",
        "    #forward pass\n",
        "    def forward(self, x):\n",
        "        #input states\n",
        "        x = self.input_layer(x)\n",
        "\n",
        "        #relu activation\n",
        "        x = F.relu(x)\n",
        "\n",
        "        #actions\n",
        "        actions = self.output_layer(x)\n",
        "\n",
        "        #get softmax for a probability distribution\n",
        "        action_probs = F.softmax(actions, dim=1)\n",
        "\n",
        "        return action_probs"
      ]
    },
    {
      "cell_type": "code",
      "execution_count": null,
      "metadata": {
        "id": "n2-QB_v9eHZb"
      },
      "outputs": [],
      "source": [
        "#Using a neural network to learn state value\n",
        "class StateValueNetwork(nn.Module):\n",
        "\n",
        "    #Takes in state\n",
        "    def __init__(self, observation_space):\n",
        "        super(StateValueNetwork, self).__init__()\n",
        "\n",
        "        self.input_layer = nn.Linear(observation_space, 128)\n",
        "        self.output_layer = nn.Linear(128, 1)\n",
        "\n",
        "    def forward(self, x):\n",
        "        #input layer\n",
        "        x = self.input_layer(x)\n",
        "\n",
        "        #activiation relu\n",
        "        x = F.relu(x)\n",
        "\n",
        "        #get state value\n",
        "        state_value = self.output_layer(x)\n",
        "\n",
        "        return state_value"
      ]
    },
    {
      "cell_type": "code",
      "execution_count": null,
      "metadata": {
        "id": "-oanuRIdeHZb"
      },
      "outputs": [],
      "source": [
        "def select_action(network, state):\n",
        "    ''' Selects an action given current state\n",
        "    Args:\n",
        "    - network (Torch NN): network to process state\n",
        "    - state (Array): Array of action space in an environment\n",
        "\n",
        "    Return:\n",
        "    - (int): action that is selected\n",
        "    - (float): log probability of selecting that action given state and network\n",
        "    '''\n",
        "\n",
        "    #convert state to float tensor, add 1 dimension, allocate tensor on device\n",
        "    state = torch.from_numpy(state).float().unsqueeze(0).to(DEVICE)\n",
        "\n",
        "    #use network to predict action probabilities\n",
        "    action_probs = network(state)\n",
        "    state = state.detach()\n",
        "\n",
        "    #sample an action using the probability distribution\n",
        "    m = Categorical(action_probs)\n",
        "    action = m.sample()\n",
        "\n",
        "    #return action\n",
        "    return action.item(), m.log_prob(action)"
      ]
    },
    {
      "cell_type": "code",
      "execution_count": null,
      "metadata": {
        "colab": {
          "base_uri": "https://localhost:8080/"
        },
        "id": "Gnk1vxtqeHZc",
        "outputId": "af46198e-811e-4f16-e032-649eecabbc95"
      },
      "outputs": [
        {
          "output_type": "stream",
          "name": "stderr",
          "text": [
            "/usr/local/lib/python3.10/dist-packages/gym/core.py:317: DeprecationWarning: \u001b[33mWARN: Initializing wrapper in old step API which returns one bool instead of two. It is recommended to set `new_step_api=True` to use new step API. This will be the default behaviour in future.\u001b[0m\n",
            "  deprecation(\n",
            "/usr/local/lib/python3.10/dist-packages/gym/wrappers/step_api_compatibility.py:39: DeprecationWarning: \u001b[33mWARN: Initializing environment in old step API which returns one bool instead of two. It is recommended to set `new_step_api=True` to use new step API. This will be the default behaviour in future.\u001b[0m\n",
            "  deprecation(\n"
          ]
        }
      ],
      "source": [
        "#Make environment\n",
        "env = gym.make('CartPole-v1')\n",
        "\n",
        "#Init network\n",
        "policy_network = PolicyNetwork(env.observation_space.shape[0], env.action_space.n).to(DEVICE)\n",
        "stateval_network = StateValueNetwork(env.observation_space.shape[0]).to(DEVICE)\n",
        "\n",
        "#Init optimizer\n",
        "policy_optimizer = optim.SGD(policy_network.parameters(), lr=0.001)\n",
        "stateval_optimizer = optim.SGD(stateval_network.parameters(), lr=0.001)"
      ]
    },
    {
      "cell_type": "code",
      "execution_count": null,
      "metadata": {
        "scrolled": true,
        "colab": {
          "base_uri": "https://localhost:8080/",
          "height": 194,
          "referenced_widgets": [
            "8e141fd71add45d7aaac0c56252e2622",
            "7ecd67c3b2ca4a98ae872982c9eae584",
            "0c3bf36df77e4a7db7e3a92dac447a2f",
            "3dddde63e0664a869c9fe2072eb7a14d",
            "d858eae054e947ebad9cce35602b0356",
            "882b2e66cf474ef2844886ba46d368fb",
            "95d839b16af349bfb49a012d85222382",
            "14501262522840758ecf441e2fc005f2",
            "26278157b1a14973a0da1d7e7cd7f09e",
            "04045087b473448eae326ade5fedd20e",
            "004b29f0a136455fb881e9afd08c1030"
          ]
        },
        "id": "9h6lvmQQeHZc",
        "outputId": "aa16b768-73a0-453d-ad1b-65183efe23cc"
      },
      "outputs": [
        {
          "output_type": "stream",
          "name": "stderr",
          "text": [
            "/usr/local/lib/python3.10/dist-packages/ipykernel/ipkernel.py:283: DeprecationWarning: `should_run_async` will not call `transform_cell` automatically in the future. Please pass the result to `transformed_cell` argument and any exception that happen during thetransform in `preprocessing_exc_tuple` in IPython 7.17 and above.\n",
            "  and should_run_async(code)\n",
            "<ipython-input-7-e1781c268aa6>:8: TqdmDeprecationWarning: This function will be removed in tqdm==5.0.0\n",
            "Please use `tqdm.notebook.tqdm` instead of `tqdm.tqdm_notebook`\n",
            "  for episode in tqdm_notebook(range(NUM_EPISODES)):\n"
          ]
        },
        {
          "output_type": "display_data",
          "data": {
            "text/plain": [
              "  0%|          | 0/1000 [00:00<?, ?it/s]"
            ],
            "application/vnd.jupyter.widget-view+json": {
              "version_major": 2,
              "version_minor": 0,
              "model_id": "8e141fd71add45d7aaac0c56252e2622"
            }
          },
          "metadata": {}
        },
        {
          "output_type": "stream",
          "name": "stderr",
          "text": [
            "/usr/local/lib/python3.10/dist-packages/gym/utils/passive_env_checker.py:241: DeprecationWarning: `np.bool8` is a deprecated alias for `np.bool_`.  (Deprecated NumPy 1.24)\n",
            "  if not isinstance(terminated, (bool, np.bool8)):\n"
          ]
        }
      ],
      "source": [
        "#track scores\n",
        "scores = []\n",
        "\n",
        "#track recent scores\n",
        "recent_scores = deque(maxlen = 100)\n",
        "\n",
        "#run episodes\n",
        "for episode in tqdm_notebook(range(NUM_EPISODES)):\n",
        "\n",
        "    #init variables\n",
        "    state = env.reset()\n",
        "    done = False\n",
        "    score = 0\n",
        "    I = 1\n",
        "\n",
        "    #run episode, update online\n",
        "    for step in range(MAX_STEPS):\n",
        "\n",
        "        #get action and log probability\n",
        "        action, lp = select_action(policy_network, state)\n",
        "\n",
        "        #step with action\n",
        "        new_state, reward, done, _ = env.step(action)\n",
        "\n",
        "        #update episode score\n",
        "        score += reward\n",
        "\n",
        "        #get state value of current state\n",
        "        state_tensor = torch.from_numpy(state).float().unsqueeze(0).to(DEVICE)\n",
        "        state_val = stateval_network(state_tensor)\n",
        "\n",
        "        #get state value of next state\n",
        "        new_state_tensor = torch.from_numpy(new_state).float().unsqueeze(0).to(DEVICE)\n",
        "        new_state_val = stateval_network(new_state_tensor)\n",
        "\n",
        "        #if terminal state, next state val is 0\n",
        "        if done:\n",
        "            new_state_val = torch.tensor([0]).float().unsqueeze(0).to(DEVICE)\n",
        "\n",
        "        #calculate value function loss with MSE\n",
        "        val_loss = F.mse_loss(reward + DISCOUNT_FACTOR * new_state_val, state_val)\n",
        "        val_loss *= I\n",
        "\n",
        "        #calculate policy loss\n",
        "        advantage = reward + DISCOUNT_FACTOR * new_state_val.item() - state_val.item()\n",
        "        policy_loss = -lp * advantage\n",
        "        policy_loss *= I\n",
        "\n",
        "        #Backpropagate policy\n",
        "        policy_optimizer.zero_grad()\n",
        "        policy_loss.backward(retain_graph=True)\n",
        "        policy_optimizer.step()\n",
        "\n",
        "        #Backpropagate value\n",
        "        stateval_optimizer.zero_grad()\n",
        "        val_loss.backward()\n",
        "        stateval_optimizer.step()\n",
        "\n",
        "        if done:\n",
        "            break\n",
        "\n",
        "        #move into new state, discount I\n",
        "        state = new_state\n",
        "        I *= DISCOUNT_FACTOR\n",
        "\n",
        "    #append episode score\n",
        "    scores.append(score)\n",
        "    recent_scores.append(score)\n",
        "\n",
        "    #early stopping if we meet solved score goal\n",
        "    if np.array(recent_scores).mean() >= SOLVED_SCORE:\n",
        "        break\n",
        "\n"
      ]
    },
    {
      "cell_type": "code",
      "execution_count": null,
      "metadata": {
        "colab": {
          "base_uri": "https://localhost:8080/",
          "height": 480
        },
        "id": "eN_dsh34eHZd",
        "outputId": "3980f923-cb98-4810-97b8-39424e07a202"
      },
      "outputs": [
        {
          "output_type": "display_data",
          "data": {
            "text/plain": [
              "<Figure size 640x480 with 1 Axes>"
            ],
            "image/png": "[encoded data removed]"
          },
          "metadata": {}
        }
      ],
      "source": [
        "import matplotlib.pyplot as plt\n",
        "from sklearn.linear_model import LinearRegression\n",
        "import seaborn as sns\n",
        "import numpy as np\n",
        "\n",
        "sns.set()\n",
        "\n",
        "plt.plot(scores)\n",
        "plt.ylabel('score')\n",
        "plt.xlabel('episodes')\n",
        "plt.title('Training score of CartPole Actor-Critic TD(0)')\n",
        "\n",
        "reg = LinearRegression().fit(np.arange(len(scores)).reshape(-1, 1), np.array(scores).reshape(-1, 1))\n",
        "y_pred = reg.predict(np.arange(len(scores)).reshape(-1, 1))\n",
        "plt.plot(y_pred)\n",
        "plt.show()"
      ]
    },
    {
      "cell_type": "code",
      "execution_count": null,
      "metadata": {
        "colab": {
          "base_uri": "https://localhost:8080/",
          "height": 158,
          "referenced_widgets": [
            "f21d7b97c68e43e394ef1ddd2e73fd7e",
            "f4d872f2e0aa4ad48f720d190a73d359",
            "56e1e20f24d54b7889064fdfeb6aad67",
            "acb2fec4e93846a2b08f43a961155f7e",
            "25c10e3da90b468ba63a3aace93f38b3",
            "5ae9903fd8734b3692bf9b2269272417",
            "e591ce9d01ee4a809dac3de645312eec",
            "b9033afc6b514f3a9974196d2392decc",
            "c6da2368a41245d28928f0173238084a",
            "5efb93e467ab4a68acccf7f431dd230f",
            "d490d3b185ec4fea9c63b621f98e0601"
          ]
        },
        "id": "YBsTyflSeHZd",
        "outputId": "23ae4f46-0689-4fee-8849-77ba38faf9d2"
      },
      "outputs": [
        {
          "output_type": "stream",
          "name": "stderr",
          "text": [
            "/usr/local/lib/python3.10/dist-packages/ipykernel/ipkernel.py:283: DeprecationWarning: `should_run_async` will not call `transform_cell` automatically in the future. Please pass the result to `transformed_cell` argument and any exception that happen during thetransform in `preprocessing_exc_tuple` in IPython 7.17 and above.\n",
            "  and should_run_async(code)\n",
            "<ipython-input-9-1b0985416daa>:5: TqdmDeprecationWarning: This function will be removed in tqdm==5.0.0\n",
            "Please use `tqdm.notebook.tqdm` instead of `tqdm.tqdm_notebook`\n",
            "  for _ in tqdm_notebook(range(50)):\n"
          ]
        },
        {
          "output_type": "display_data",
          "data": {
            "text/plain": [
              "  0%|          | 0/50 [00:00<?, ?it/s]"
            ],
            "application/vnd.jupyter.widget-view+json": {
              "version_major": 2,
              "version_minor": 0,
              "model_id": "f21d7b97c68e43e394ef1ddd2e73fd7e"
            }
          },
          "metadata": {}
        }
      ],
      "source": [
        "done = False\n",
        "state = env.reset()\n",
        "scores = []\n",
        "\n",
        "for _ in tqdm_notebook(range(50)):\n",
        "    state = env.reset()\n",
        "    done = False\n",
        "    score = 0\n",
        "    while not done:\n",
        "        #env.render()\n",
        "        action, lp = select_action(policy_network, state)\n",
        "        new_state, reward, done, info = env.step(action)\n",
        "        score += reward\n",
        "        state = new_state\n",
        "    scores.append(score)\n",
        "env.close()"
      ]
    },
    {
      "cell_type": "code",
      "execution_count": null,
      "metadata": {
        "id": "Z44ezbWweHZe"
      },
      "outputs": [],
      "source": [
        "env.close()"
      ]
    },
    {
      "cell_type": "code",
      "execution_count": null,
      "metadata": {
        "colab": {
          "base_uri": "https://localhost:8080/"
        },
        "id": "mblaUqaAeHZf",
        "outputId": "15716e3c-df45-486e-ae49-42460cb3d796"
      },
      "outputs": [
        {
          "output_type": "execute_result",
          "data": {
            "text/plain": [
              "73.04"
            ]
          },
          "metadata": {},
          "execution_count": 11
        }
      ],
      "source": [
        "np.array(scores).mean()"
      ]
    },
    {
      "cell_type": "code",
      "execution_count": null,
      "metadata": {
        "id": "dYDI_nAheHZg"
      },
      "outputs": [],
      "source": [
        "# Quiz-4\n",
        "\n",
        "# Guidelines, the Every screenshot should clearly show your\n",
        "#        a). whole screen (with date and time)\n",
        "#        b). local environment (i.e. Jupyter notebook)\n",
        "#        c). Your name and roll_number.\n",
        "# You Need to run this network and Submit the screenshots with\n",
        "# 1. Play the cart-pole with using above trained network.\n",
        "# 2. Screenshot-1: Showing your code implementation of using trained model to run cart-pole\n",
        "# 3. Screenshot-2: Cart-pole running environment with using that code (code and environment in front)\n",
        "# 3. Screenshot-3: Your episode concluded and total score acheived in that episode printed."
      ]
    },
    {
      "cell_type": "code",
      "source": [],
      "metadata": {
        "id": "Eci8IXI39qab"
      },
      "execution_count": null,
      "outputs": []
    }
  ],
  "metadata": {
    "kernelspec": {
      "display_name": "Python 3",
      "language": "python",
      "name": "python3"
    },
    "language_info": {
      "codemirror_mode": {
        "name": "ipython",
        "version": 3
      },
      "file_extension": ".py",
      "mimetype": "text/x-python",
      "name": "python",
      "nbconvert_exporter": "python",
      "pygments_lexer": "ipython3",
      "version": "3.7.4"
    },
    "colab": {
      "provenance": [],
      "include_colab_link": true
    },
    "widgets": {
      "application/vnd.jupyter.widget-state+json": {
        "8e141fd71add45d7aaac0c56252e2622": {
          "model_module": "@jupyter-widgets/controls",
          "model_name": "HBoxModel",
          "model_module_version": "1.5.0",
          "state": {
            "_dom_classes": [],
            "_model_module": "@jupyter-widgets/controls",
            "_model_module_version": "1.5.0",
            "_model_name": "HBoxModel",
            "_view_count": null,
            "_view_module": "@jupyter-widgets/controls",
            "_view_module_version": "1.5.0",
            "_view_name": "HBoxView",
            "box_style": "",
            "children": [
              "IPY_MODEL_7ecd67c3b2ca4a98ae872982c9eae584",
              "IPY_MODEL_0c3bf36df77e4a7db7e3a92dac447a2f",
              "IPY_MODEL_3dddde63e0664a869c9fe2072eb7a14d"
            ],
            "layout": "IPY_MODEL_d858eae054e947ebad9cce35602b0356"
          }
        },
        "7ecd67c3b2ca4a98ae872982c9eae584": {
          "model_module": "@jupyter-widgets/controls",
          "model_name": "HTMLModel",
          "model_module_version": "1.5.0",
          "state": {
            "_dom_classes": [],
            "_model_module": "@jupyter-widgets/controls",
            "_model_module_version": "1.5.0",
            "_model_name": "HTMLModel",
            "_view_count": null,
            "_view_module": "@jupyter-widgets/controls",
            "_view_module_version": "1.5.0",
            "_view_name": "HTMLView",
            "description": "",
            "description_tooltip": null,
            "layout": "IPY_MODEL_882b2e66cf474ef2844886ba46d368fb",
            "placeholder": "​",
            "style": "IPY_MODEL_95d839b16af349bfb49a012d85222382",
            "value": "100%"
          }
        },
        "0c3bf36df77e4a7db7e3a92dac447a2f": {
          "model_module": "@jupyter-widgets/controls",
          "model_name": "FloatProgressModel",
          "model_module_version": "1.5.0",
          "state": {
            "_dom_classes": [],
            "_model_module": "@jupyter-widgets/controls",
            "_model_module_version": "1.5.0",
            "_model_name": "FloatProgressModel",
            "_view_count": null,
            "_view_module": "@jupyter-widgets/controls",
            "_view_module_version": "1.5.0",
            "_view_name": "ProgressView",
            "bar_style": "success",
            "description": "",
            "description_tooltip": null,
            "layout": "IPY_MODEL_14501262522840758ecf441e2fc005f2",
            "max": 1000,
            "min": 0,
            "orientation": "horizontal",
            "style": "IPY_MODEL_26278157b1a14973a0da1d7e7cd7f09e",
            "value": 1000
          }
        },
        "3dddde63e0664a869c9fe2072eb7a14d": {
          "model_module": "@jupyter-widgets/controls",
          "model_name": "HTMLModel",
          "model_module_version": "1.5.0",
          "state": {
            "_dom_classes": [],
            "_model_module": "@jupyter-widgets/controls",
            "_model_module_version": "1.5.0",
            "_model_name": "HTMLModel",
            "_view_count": null,
            "_view_module": "@jupyter-widgets/controls",
            "_view_module_version": "1.5.0",
            "_view_name": "HTMLView",
            "description": "",
            "description_tooltip": null,
            "layout": "IPY_MODEL_04045087b473448eae326ade5fedd20e",
            "placeholder": "​",
            "style": "IPY_MODEL_004b29f0a136455fb881e9afd08c1030",
            "value": " 1000/1000 [02:21&lt;00:00,  5.84it/s]"
          }
        },
        "d858eae054e947ebad9cce35602b0356": {
          "model_module": "@jupyter-widgets/base",
          "model_name": "LayoutModel",
          "model_module_version": "1.2.0",
          "state": {
            "_model_module": "@jupyter-widgets/base",
            "_model_module_version": "1.2.0",
            "_model_name": "LayoutModel",
            "_view_count": null,
            "_view_module": "@jupyter-widgets/base",
            "_view_module_version": "1.2.0",
            "_view_name": "LayoutView",
            "align_content": null,
            "align_items": null,
            "align_self": null,
            "border": null,
            "bottom": null,
            "display": null,
            "flex": null,
            "flex_flow": null,
            "grid_area": null,
            "grid_auto_columns": null,
            "grid_auto_flow": null,
            "grid_auto_rows": null,
            "grid_column": null,
            "grid_gap": null,
            "grid_row": null,
            "grid_template_areas": null,
            "grid_template_columns": null,
            "grid_template_rows": null,
            "height": null,
            "justify_content": null,
            "justify_items": null,
            "left": null,
            "margin": null,
            "max_height": null,
            "max_width": null,
            "min_height": null,
            "min_width": null,
            "object_fit": null,
            "object_position": null,
            "order": null,
            "overflow": null,
            "overflow_x": null,
            "overflow_y": null,
            "padding": null,
            "right": null,
            "top": null,
            "visibility": null,
            "width": null
          }
        },
        "882b2e66cf474ef2844886ba46d368fb": {
          "model_module": "@jupyter-widgets/base",
          "model_name": "LayoutModel",
          "model_module_version": "1.2.0",
          "state": {
            "_model_module": "@jupyter-widgets/base",
            "_model_module_version": "1.2.0",
            "_model_name": "LayoutModel",
            "_view_count": null,
            "_view_module": "@jupyter-widgets/base",
            "_view_module_version": "1.2.0",
            "_view_name": "LayoutView",
            "align_content": null,
            "align_items": null,
            "align_self": null,
            "border": null,
            "bottom": null,
            "display": null,
            "flex": null,
            "flex_flow": null,
            "grid_area": null,
            "grid_auto_columns": null,
            "grid_auto_flow": null,
            "grid_auto_rows": null,
            "grid_column": null,
            "grid_gap": null,
            "grid_row": null,
            "grid_template_areas": null,
            "grid_template_columns": null,
            "grid_template_rows": null,
            "height": null,
            "justify_content": null,
            "justify_items": null,
            "left": null,
            "margin": null,
            "max_height": null,
            "max_width": null,
            "min_height": null,
            "min_width": null,
            "object_fit": null,
            "object_position": null,
            "order": null,
            "overflow": null,
            "overflow_x": null,
            "overflow_y": null,
            "padding": null,
            "right": null,
            "top": null,
            "visibility": null,
            "width": null
          }
        },
        "95d839b16af349bfb49a012d85222382": {
          "model_module": "@jupyter-widgets/controls",
          "model_name": "DescriptionStyleModel",
          "model_module_version": "1.5.0",
          "state": {
            "_model_module": "@jupyter-widgets/controls",
            "_model_module_version": "1.5.0",
            "_model_name": "DescriptionStyleModel",
            "_view_count": null,
            "_view_module": "@jupyter-widgets/base",
            "_view_module_version": "1.2.0",
            "_view_name": "StyleView",
            "description_width": ""
          }
        },
        "14501262522840758ecf441e2fc005f2": {
          "model_module": "@jupyter-widgets/base",
          "model_name": "LayoutModel",
          "model_module_version": "1.2.0",
          "state": {
            "_model_module": "@jupyter-widgets/base",
            "_model_module_version": "1.2.0",
            "_model_name": "LayoutModel",
            "_view_count": null,
            "_view_module": "@jupyter-widgets/base",
            "_view_module_version": "1.2.0",
            "_view_name": "LayoutView",
            "align_content": null,
            "align_items": null,
            "align_self": null,
            "border": null,
            "bottom": null,
            "display": null,
            "flex": null,
            "flex_flow": null,
            "grid_area": null,
            "grid_auto_columns": null,
            "grid_auto_flow": null,
            "grid_auto_rows": null,
            "grid_column": null,
            "grid_gap": null,
            "grid_row": null,
            "grid_template_areas": null,
            "grid_template_columns": null,
            "grid_template_rows": null,
            "height": null,
            "justify_content": null,
            "justify_items": null,
            "left": null,
            "margin": null,
            "max_height": null,
            "max_width": null,
            "min_height": null,
            "min_width": null,
            "object_fit": null,
            "object_position": null,
            "order": null,
            "overflow": null,
            "overflow_x": null,
            "overflow_y": null,
            "padding": null,
            "right": null,
            "top": null,
            "visibility": null,
            "width": null
          }
        },
        "26278157b1a14973a0da1d7e7cd7f09e": {
          "model_module": "@jupyter-widgets/controls",
          "model_name": "ProgressStyleModel",
          "model_module_version": "1.5.0",
          "state": {
            "_model_module": "@jupyter-widgets/controls",
            "_model_module_version": "1.5.0",
            "_model_name": "ProgressStyleModel",
            "_view_count": null,
            "_view_module": "@jupyter-widgets/base",
            "_view_module_version": "1.2.0",
            "_view_name": "StyleView",
            "bar_color": null,
            "description_width": ""
          }
        },
        "04045087b473448eae326ade5fedd20e": {
          "model_module": "@jupyter-widgets/base",
          "model_name": "LayoutModel",
          "model_module_version": "1.2.0",
          "state": {
            "_model_module": "@jupyter-widgets/base",
            "_model_module_version": "1.2.0",
            "_model_name": "LayoutModel",
            "_view_count": null,
            "_view_module": "@jupyter-widgets/base",
            "_view_module_version": "1.2.0",
            "_view_name": "LayoutView",
            "align_content": null,
            "align_items": null,
            "align_self": null,
            "border": null,
            "bottom": null,
            "display": null,
            "flex": null,
            "flex_flow": null,
            "grid_area": null,
            "grid_auto_columns": null,
            "grid_auto_flow": null,
            "grid_auto_rows": null,
            "grid_column": null,
            "grid_gap": null,
            "grid_row": null,
            "grid_template_areas": null,
            "grid_template_columns": null,
            "grid_template_rows": null,
            "height": null,
            "justify_content": null,
            "justify_items": null,
            "left": null,
            "margin": null,
            "max_height": null,
            "max_width": null,
            "min_height": null,
            "min_width": null,
            "object_fit": null,
            "object_position": null,
            "order": null,
            "overflow": null,
            "overflow_x": null,
            "overflow_y": null,
            "padding": null,
            "right": null,
            "top": null,
            "visibility": null,
            "width": null
          }
        },
        "004b29f0a136455fb881e9afd08c1030": {
          "model_module": "@jupyter-widgets/controls",
          "model_name": "DescriptionStyleModel",
          "model_module_version": "1.5.0",
          "state": {
            "_model_module": "@jupyter-widgets/controls",
            "_model_module_version": "1.5.0",
            "_model_name": "DescriptionStyleModel",
            "_view_count": null,
            "_view_module": "@jupyter-widgets/base",
            "_view_module_version": "1.2.0",
            "_view_name": "StyleView",
            "description_width": ""
          }
        },
        "f21d7b97c68e43e394ef1ddd2e73fd7e": {
          "model_module": "@jupyter-widgets/controls",
          "model_name": "HBoxModel",
          "model_module_version": "1.5.0",
          "state": {
            "_dom_classes": [],
            "_model_module": "@jupyter-widgets/controls",
            "_model_module_version": "1.5.0",
            "_model_name": "HBoxModel",
            "_view_count": null,
            "_view_module": "@jupyter-widgets/controls",
            "_view_module_version": "1.5.0",
            "_view_name": "HBoxView",
            "box_style": "",
            "children": [
              "IPY_MODEL_f4d872f2e0aa4ad48f720d190a73d359",
              "IPY_MODEL_56e1e20f24d54b7889064fdfeb6aad67",
              "IPY_MODEL_acb2fec4e93846a2b08f43a961155f7e"
            ],
            "layout": "IPY_MODEL_25c10e3da90b468ba63a3aace93f38b3"
          }
        },
        "f4d872f2e0aa4ad48f720d190a73d359": {
          "model_module": "@jupyter-widgets/controls",
          "model_name": "HTMLModel",
          "model_module_version": "1.5.0",
          "state": {
            "_dom_classes": [],
            "_model_module": "@jupyter-widgets/controls",
            "_model_module_version": "1.5.0",
            "_model_name": "HTMLModel",
            "_view_count": null,
            "_view_module": "@jupyter-widgets/controls",
            "_view_module_version": "1.5.0",
            "_view_name": "HTMLView",
            "description": "",
            "description_tooltip": null,
            "layout": "IPY_MODEL_5ae9903fd8734b3692bf9b2269272417",
            "placeholder": "​",
            "style": "IPY_MODEL_e591ce9d01ee4a809dac3de645312eec",
            "value": "100%"
          }
        },
        "56e1e20f24d54b7889064fdfeb6aad67": {
          "model_module": "@jupyter-widgets/controls",
          "model_name": "FloatProgressModel",
          "model_module_version": "1.5.0",
          "state": {
            "_dom_classes": [],
            "_model_module": "@jupyter-widgets/controls",
            "_model_module_version": "1.5.0",
            "_model_name": "FloatProgressModel",
            "_view_count": null,
            "_view_module": "@jupyter-widgets/controls",
            "_view_module_version": "1.5.0",
            "_view_name": "ProgressView",
            "bar_style": "success",
            "description": "",
            "description_tooltip": null,
            "layout": "IPY_MODEL_b9033afc6b514f3a9974196d2392decc",
            "max": 50,
            "min": 0,
            "orientation": "horizontal",
            "style": "IPY_MODEL_c6da2368a41245d28928f0173238084a",
            "value": 50
          }
        },
        "acb2fec4e93846a2b08f43a961155f7e": {
          "model_module": "@jupyter-widgets/controls",
          "model_name": "HTMLModel",
          "model_module_version": "1.5.0",
          "state": {
            "_dom_classes": [],
            "_model_module": "@jupyter-widgets/controls",
            "_model_module_version": "1.5.0",
            "_model_name": "HTMLModel",
            "_view_count": null,
            "_view_module": "@jupyter-widgets/controls",
            "_view_module_version": "1.5.0",
            "_view_name": "HTMLView",
            "description": "",
            "description_tooltip": null,
            "layout": "IPY_MODEL_5efb93e467ab4a68acccf7f431dd230f",
            "placeholder": "​",
            "style": "IPY_MODEL_d490d3b185ec4fea9c63b621f98e0601",
            "value": " 50/50 [00:02&lt;00:00, 26.62it/s]"
          }
        },
        "25c10e3da90b468ba63a3aace93f38b3": {
          "model_module": "@jupyter-widgets/base",
          "model_name": "LayoutModel",
          "model_module_version": "1.2.0",
          "state": {
            "_model_module": "@jupyter-widgets/base",
            "_model_module_version": "1.2.0",
            "_model_name": "LayoutModel",
            "_view_count": null,
            "_view_module": "@jupyter-widgets/base",
            "_view_module_version": "1.2.0",
            "_view_name": "LayoutView",
            "align_content": null,
            "align_items": null,
            "align_self": null,
            "border": null,
            "bottom": null,
            "display": null,
            "flex": null,
            "flex_flow": null,
            "grid_area": null,
            "grid_auto_columns": null,
            "grid_auto_flow": null,
            "grid_auto_rows": null,
            "grid_column": null,
            "grid_gap": null,
            "grid_row": null,
            "grid_template_areas": null,
            "grid_template_columns": null,
            "grid_template_rows": null,
            "height": null,
            "justify_content": null,
            "justify_items": null,
            "left": null,
            "margin": null,
            "max_height": null,
            "max_width": null,
            "min_height": null,
            "min_width": null,
            "object_fit": null,
            "object_position": null,
            "order": null,
            "overflow": null,
            "overflow_x": null,
            "overflow_y": null,
            "padding": null,
            "right": null,
            "top": null,
            "visibility": null,
            "width": null
          }
        },
        "5ae9903fd8734b3692bf9b2269272417": {
          "model_module": "@jupyter-widgets/base",
          "model_name": "LayoutModel",
          "model_module_version": "1.2.0",
          "state": {
            "_model_module": "@jupyter-widgets/base",
            "_model_module_version": "1.2.0",
            "_model_name": "LayoutModel",
            "_view_count": null,
            "_view_module": "@jupyter-widgets/base",
            "_view_module_version": "1.2.0",
            "_view_name": "LayoutView",
            "align_content": null,
            "align_items": null,
            "align_self": null,
            "border": null,
            "bottom": null,
            "display": null,
            "flex": null,
            "flex_flow": null,
            "grid_area": null,
            "grid_auto_columns": null,
            "grid_auto_flow": null,
            "grid_auto_rows": null,
            "grid_column": null,
            "grid_gap": null,
            "grid_row": null,
            "grid_template_areas": null,
            "grid_template_columns": null,
            "grid_template_rows": null,
            "height": null,
            "justify_content": null,
            "justify_items": null,
            "left": null,
            "margin": null,
            "max_height": null,
            "max_width": null,
            "min_height": null,
            "min_width": null,
            "object_fit": null,
            "object_position": null,
            "order": null,
            "overflow": null,
            "overflow_x": null,
            "overflow_y": null,
            "padding": null,
            "right": null,
            "top": null,
            "visibility": null,
            "width": null
          }
        },
        "e591ce9d01ee4a809dac3de645312eec": {
          "model_module": "@jupyter-widgets/controls",
          "model_name": "DescriptionStyleModel",
          "model_module_version": "1.5.0",
          "state": {
            "_model_module": "@jupyter-widgets/controls",
            "_model_module_version": "1.5.0",
            "_model_name": "DescriptionStyleModel",
            "_view_count": null,
            "_view_module": "@jupyter-widgets/base",
            "_view_module_version": "1.2.0",
            "_view_name": "StyleView",
            "description_width": ""
          }
        },
        "b9033afc6b514f3a9974196d2392decc": {
          "model_module": "@jupyter-widgets/base",
          "model_name": "LayoutModel",
          "model_module_version": "1.2.0",
          "state": {
            "_model_module": "@jupyter-widgets/base",
            "_model_module_version": "1.2.0",
            "_model_name": "LayoutModel",
            "_view_count": null,
            "_view_module": "@jupyter-widgets/base",
            "_view_module_version": "1.2.0",
            "_view_name": "LayoutView",
            "align_content": null,
            "align_items": null,
            "align_self": null,
            "border": null,
            "bottom": null,
            "display": null,
            "flex": null,
            "flex_flow": null,
            "grid_area": null,
            "grid_auto_columns": null,
            "grid_auto_flow": null,
            "grid_auto_rows": null,
            "grid_column": null,
            "grid_gap": null,
            "grid_row": null,
            "grid_template_areas": null,
            "grid_template_columns": null,
            "grid_template_rows": null,
            "height": null,
            "justify_content": null,
            "justify_items": null,
            "left": null,
            "margin": null,
            "max_height": null,
            "max_width": null,
            "min_height": null,
            "min_width": null,
            "object_fit": null,
            "object_position": null,
            "order": null,
            "overflow": null,
            "overflow_x": null,
            "overflow_y": null,
            "padding": null,
            "right": null,
            "top": null,
            "visibility": null,
            "width": null
          }
        },
        "c6da2368a41245d28928f0173238084a": {
          "model_module": "@jupyter-widgets/controls",
          "model_name": "ProgressStyleModel",
          "model_module_version": "1.5.0",
          "state": {
            "_model_module": "@jupyter-widgets/controls",
            "_model_module_version": "1.5.0",
            "_model_name": "ProgressStyleModel",
            "_view_count": null,
            "_view_module": "@jupyter-widgets/base",
            "_view_module_version": "1.2.0",
            "_view_name": "StyleView",
            "bar_color": null,
            "description_width": ""
          }
        },
        "5efb93e467ab4a68acccf7f431dd230f": {
          "model_module": "@jupyter-widgets/base",
          "model_name": "LayoutModel",
          "model_module_version": "1.2.0",
          "state": {
            "_model_module": "@jupyter-widgets/base",
            "_model_module_version": "1.2.0",
            "_model_name": "LayoutModel",
            "_view_count": null,
            "_view_module": "@jupyter-widgets/base",
            "_view_module_version": "1.2.0",
            "_view_name": "LayoutView",
            "align_content": null,
            "align_items": null,
            "align_self": null,
            "border": null,
            "bottom": null,
            "display": null,
            "flex": null,
            "flex_flow": null,
            "grid_area": null,
            "grid_auto_columns": null,
            "grid_auto_flow": null,
            "grid_auto_rows": null,
            "grid_column": null,
            "grid_gap": null,
            "grid_row": null,
            "grid_template_areas": null,
            "grid_template_columns": null,
            "grid_template_rows": null,
            "height": null,
            "justify_content": null,
            "justify_items": null,
            "left": null,
            "margin": null,
            "max_height": null,
            "max_width": null,
            "min_height": null,
            "min_width": null,
            "object_fit": null,
            "object_position": null,
            "order": null,
            "overflow": null,
            "overflow_x": null,
            "overflow_y": null,
            "padding": null,
            "right": null,
            "top": null,
            "visibility": null,
            "width": null
          }
        },
        "d490d3b185ec4fea9c63b621f98e0601": {
          "model_module": "@jupyter-widgets/controls",
          "model_name": "DescriptionStyleModel",
          "model_module_version": "1.5.0",
          "state": {
            "_model_module": "@jupyter-widgets/controls",
            "_model_module_version": "1.5.0",
            "_model_name": "DescriptionStyleModel",
            "_view_count": null,
            "_view_module": "@jupyter-widgets/base",
            "_view_module_version": "1.2.0",
            "_view_name": "StyleView",
            "description_width": ""
          }
        }
      }
    }
  },
  "nbformat": 4,
  "nbformat_minor": 0
}