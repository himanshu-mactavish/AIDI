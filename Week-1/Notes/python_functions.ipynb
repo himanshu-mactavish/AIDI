{
  "nbformat": 4,
  "nbformat_minor": 0,
  "metadata": {
    "kernelspec": {
      "display_name": "Python 3",
      "language": "python",
      "name": "python3"
    },
    "language_info": {
      "codemirror_mode": {
        "name": "ipython",
        "version": 3
      },
      "file_extension": ".py",
      "mimetype": "text/x-python",
      "name": "python",
      "nbconvert_exporter": "python",
      "pygments_lexer": "ipython3",
      "version": "3.7.6"
    },
    "colab": {
      "name": "Week2Lecture1_6thApril_ICS3U_ICS4U.ipynb",
      "provenance": []
    }
  },
  "cells": [
    {
      "cell_type": "markdown",
      "metadata": {
        "id": "4fQpjp9likI_"
      },
      "source": [
        "# Declaring a function"
      ]
    },
    {
      "cell_type": "code",
      "metadata": {
        "id": "DszU2iINikJE"
      },
      "source": [
        "# Function definition is here\n",
        "def printme(str1):\n",
        "    #\"This prints a passed string into this function\"\n",
        "    print(str1)\n",
        "    return"
      ],
      "execution_count": null,
      "outputs": []
    },
    {
      "cell_type": "markdown",
      "metadata": {
        "id": "hvoQmkMWikJF"
      },
      "source": [
        "# Calling the function"
      ]
    },
    {
      "cell_type": "code",
      "metadata": {
        "id": "MAuzOye6ikJG",
        "colab": {
          "base_uri": "https://localhost:8080/"
        },
        "outputId": "8da04543-5405-4280-b52b-f8f9b52825ae"
      },
      "source": [
        "# Now you can call printme function\n",
        "printme(\"I'm first call to user defined function!\")\n",
        "printme(\"Again second call to the same function\")"
      ],
      "execution_count": null,
      "outputs": [
        {
          "output_type": "stream",
          "name": "stdout",
          "text": [
            "I'm first call to user defined function!\n",
            "Again second call to the same function\n"
          ]
        }
      ]
    },
    {
      "cell_type": "code",
      "metadata": {
        "id": "VWAAeO0LkIYI"
      },
      "source": [
        "def add(num1,num2):\n",
        "  if num1 > 0 and num2 > 0:\n",
        "    result = num1 + num2\n",
        "    print(\"The results is \", result)\n",
        "    return\n",
        "  else:\n",
        "    print(\"invalid input\")\n",
        "    return "
      ],
      "execution_count": null,
      "outputs": []
    },
    {
      "cell_type": "code",
      "metadata": {
        "colab": {
          "base_uri": "https://localhost:8080/"
        },
        "id": "mCaBzSjMkgwM",
        "outputId": "734857ac-e0cd-4b25-c0a0-66906fd66abe"
      },
      "source": [
        "add(-9,0)"
      ],
      "execution_count": null,
      "outputs": [
        {
          "output_type": "stream",
          "name": "stdout",
          "text": [
            "invalid input\n"
          ]
        }
      ]
    },
    {
      "cell_type": "markdown",
      "metadata": {
        "id": "vLWAlkJ7lRG3"
      },
      "source": [
        "#### Hint for the below function"
      ]
    },
    {
      "cell_type": "code",
      "metadata": {
        "colab": {
          "base_uri": "https://localhost:8080/"
        },
        "id": "bAC_O0zPlF3x",
        "outputId": "82e54f34-cca7-429e-cfb6-c18b5f6b291c"
      },
      "source": [
        "a = 'Garima'\n",
        "for i in a:\n",
        "  print(i)"
      ],
      "execution_count": null,
      "outputs": [
        {
          "output_type": "stream",
          "name": "stdout",
          "text": [
            "G\n",
            "a\n",
            "r\n",
            "i\n",
            "m\n",
            "a\n"
          ]
        }
      ]
    },
    {
      "cell_type": "markdown",
      "metadata": {
        "id": "cYTa8UJckuxc"
      },
      "source": [
        "#### Write the function to calculate the length of the string"
      ]
    },
    {
      "cell_type": "code",
      "metadata": {
        "id": "MQ2kBB30ksyU"
      },
      "source": [
        "def cal_length_string(str):\n",
        "  length = 0\n",
        "  for i in str:\n",
        "    length = length + 1\n",
        "  return length"
      ],
      "execution_count": null,
      "outputs": []
    },
    {
      "cell_type": "code",
      "metadata": {
        "colab": {
          "base_uri": "https://localhost:8080/"
        },
        "id": "w17tqFlwubZr",
        "outputId": "b99b43b4-6d3c-417d-bf1d-6305cd7f25e3"
      },
      "source": [
        "res = cal_length_string(\"this is my room\")\n",
        "print(res)"
      ],
      "execution_count": null,
      "outputs": [
        {
          "output_type": "stream",
          "name": "stdout",
          "text": [
            "15\n"
          ]
        }
      ]
    },
    {
      "cell_type": "markdown",
      "metadata": {
        "id": "Hqsr5I6Bv1D2"
      },
      "source": [
        "#### Write a function to calculate the area of circle and return the area"
      ]
    },
    {
      "cell_type": "code",
      "metadata": {
        "id": "hmXeniCav0F8"
      },
      "source": [
        "def cal_area(radius):\n",
        "  if radius > 0:\n",
        "    area = 3.14 * radius * radius\n",
        "    return area\n",
        "  else:\n",
        "    print(\"invalid input\")\n",
        "    return "
      ],
      "execution_count": null,
      "outputs": []
    },
    {
      "cell_type": "code",
      "metadata": {
        "colab": {
          "base_uri": "https://localhost:8080/"
        },
        "id": "5Dse-Kgjzfty",
        "outputId": "f64606e2-76b2-4cc4-ce2d-f2624c5bf830"
      },
      "source": [
        "result = cal_area(5)\n",
        "print(\"the area is \"+ str(result)+\" m^2\")"
      ],
      "execution_count": null,
      "outputs": [
        {
          "output_type": "stream",
          "name": "stdout",
          "text": [
            "the area is 78.5 m^2\n"
          ]
        }
      ]
    },
    {
      "cell_type": "markdown",
      "metadata": {
        "id": "RKafqAnLikJH"
      },
      "source": [
        "# Function arguments in Python"
      ]
    },
    {
      "cell_type": "code",
      "metadata": {
        "id": "_81yzhjhkgTE"
      },
      "source": [
        ""
      ],
      "execution_count": null,
      "outputs": []
    },
    {
      "cell_type": "markdown",
      "metadata": {
        "id": "qD5d4Jb7ikJH"
      },
      "source": [
        "# Default argument"
      ]
    },
    {
      "cell_type": "code",
      "metadata": {
        "id": "o5amtCJvikJH",
        "outputId": "66ff579a-4224-4bc9-c295-ee9f93668abc"
      },
      "source": [
        "# Define `plus()` function\n",
        "def plus(a,b = 2):\n",
        "    return a + b\n",
        "  \n",
        "# Call `plus()` with only `a` parameter\n",
        "plus(a=1)"
      ],
      "execution_count": null,
      "outputs": [
        {
          "output_type": "execute_result",
          "data": {
            "text/plain": [
              "3"
            ]
          },
          "metadata": {
            "tags": []
          },
          "execution_count": 13
        }
      ]
    },
    {
      "cell_type": "code",
      "metadata": {
        "id": "cbJnwMPZikJI",
        "outputId": "6981f9f2-1d01-41c2-9a07-01b7f4aae7b5"
      },
      "source": [
        "# Call `plus()` with `a` and `b` parameters\n",
        "plus(a=1, b=3)"
      ],
      "execution_count": null,
      "outputs": [
        {
          "output_type": "execute_result",
          "data": {
            "text/plain": [
              "4"
            ]
          },
          "metadata": {
            "tags": []
          },
          "execution_count": 14
        }
      ]
    },
    {
      "cell_type": "markdown",
      "metadata": {
        "id": "r6oj0gKMikJI"
      },
      "source": [
        "# Required arguments"
      ]
    },
    {
      "cell_type": "code",
      "metadata": {
        "id": "Pv5_AClwikJI"
      },
      "source": [
        "# Define `plus()` with required arguments\n",
        "def plus(a,b):\n",
        "      return a + b"
      ],
      "execution_count": null,
      "outputs": []
    },
    {
      "cell_type": "code",
      "metadata": {
        "id": "EAixtaGsikJI",
        "outputId": "42d47a78-fab3-47c0-a72a-20238187fdb2"
      },
      "source": [
        "plus(10,20)"
      ],
      "execution_count": null,
      "outputs": [
        {
          "output_type": "execute_result",
          "data": {
            "text/plain": [
              "30"
            ]
          },
          "metadata": {
            "tags": []
          },
          "execution_count": 16
        }
      ]
    },
    {
      "cell_type": "markdown",
      "metadata": {
        "id": "vTHvyhn3ikJJ"
      },
      "source": [
        "# Keyword arguments"
      ]
    },
    {
      "cell_type": "code",
      "metadata": {
        "id": "88kkFSeqikJJ",
        "outputId": "c49f5b95-4492-486a-8b4b-fedb322a775d"
      },
      "source": [
        "# Define `plus()` function\n",
        "def plus(a,b):\n",
        "      return a + b\n",
        "    \n",
        "# Call `plus()` function with parameters \n",
        "plus(2,3)"
      ],
      "execution_count": null,
      "outputs": [
        {
          "output_type": "execute_result",
          "data": {
            "text/plain": [
              "5"
            ]
          },
          "metadata": {
            "tags": []
          },
          "execution_count": 18
        }
      ]
    },
    {
      "cell_type": "code",
      "metadata": {
        "id": "-E4Zv-4qikJJ",
        "outputId": "69880da4-2494-4013-bdb6-f39002adf5a2"
      },
      "source": [
        "# Call `plus()` function with keyword arguments\n",
        "plus(a=1, b=2)"
      ],
      "execution_count": null,
      "outputs": [
        {
          "output_type": "execute_result",
          "data": {
            "text/plain": [
              "3"
            ]
          },
          "metadata": {
            "tags": []
          },
          "execution_count": 19
        }
      ]
    },
    {
      "cell_type": "markdown",
      "metadata": {
        "id": "_tnQQLOcikJJ"
      },
      "source": [
        "# Local variables"
      ]
    },
    {
      "cell_type": "code",
      "metadata": {
        "id": "_-7ItQ8LikJK",
        "outputId": "aa5532cf-37d3-4d7b-be08-7741ca44628d"
      },
      "source": [
        "def myfunc():\n",
        "    x = 300\n",
        "    print(x)\n",
        "\n",
        "myfunc()"
      ],
      "execution_count": null,
      "outputs": [
        {
          "output_type": "stream",
          "text": [
            "300\n"
          ],
          "name": "stdout"
        }
      ]
    },
    {
      "cell_type": "markdown",
      "metadata": {
        "id": "Qihe_SyuikJK"
      },
      "source": [
        "# Global variables"
      ]
    },
    {
      "cell_type": "code",
      "metadata": {
        "id": "8jt86ZmZikJK",
        "outputId": "0fb0afd3-89e0-4a33-fa60-d85003afb2e3"
      },
      "source": [
        "x = 300\n",
        "\n",
        "def myfunc():\n",
        "    print(\"Calling the method :\",x)\n",
        "\n",
        "myfunc()\n",
        "print(\"Global variable :\",x)"
      ],
      "execution_count": null,
      "outputs": [
        {
          "output_type": "stream",
          "text": [
            "Calling the method : 300\n",
            "Global variable : 300\n"
          ],
          "name": "stdout"
        }
      ]
    },
    {
      "cell_type": "code",
      "metadata": {
        "id": "LFGycnqwikJK"
      },
      "source": [
        "from sort import sort_list"
      ],
      "execution_count": null,
      "outputs": []
    },
    {
      "cell_type": "code",
      "metadata": {
        "id": "x37aSOQLiqX5",
        "colab": {
          "base_uri": "https://localhost:8080/"
        },
        "outputId": "07b1540c-ab7a-4273-9c81-ff70051100d6"
      },
      "source": [
        "sort_list([0,9,8,7,5,4])"
      ],
      "execution_count": null,
      "outputs": [
        {
          "output_type": "stream",
          "text": [
            "[0, 4, 5, 7, 8, 9]\n"
          ],
          "name": "stdout"
        }
      ]
    },
    {
      "cell_type": "code",
      "metadata": {
        "id": "yTt9K2V0iuFe"
      },
      "source": [
        ""
      ],
      "execution_count": null,
      "outputs": []
    }
  ]
}