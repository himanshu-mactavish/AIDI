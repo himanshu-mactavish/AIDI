{
 "cells": [
  {
   "cell_type": "markdown",
   "metadata": {},
   "source": [
    "### Write a python function that takes the dimension (n) of a square and a character (s) (e.g., ‘x’, ‘o’, ‘*’ etc.) as inputs, and prints to screen a corresponding shape that consists of the inputed character, which has the shape given in Figure 1 (a-b-c) depending on the dimension parameter along with the number of times the character s is used in creating this shape. Note that the order of printing is important, i.e., in the first line count value should be printed, and the shape should follow it as shown below. Screen Shot 2022-01-09 at 1.59.33 PM.png"
   ]
  },
  {
   "cell_type": "code",
   "execution_count": null,
   "metadata": {},
   "outputs": [],
   "source": [
    "def pattern_print(n,pattern):\n",
    "    for i in range(n+1):\n",
    "        if i==n-1:\n",
    "            continue\n",
    "        for j in range(n):\n",
    "            if i==j or i+j ==n-1 or  j==0 or j==n-1:\n",
    "                print(pattern,end=\"\")\n",
    "            else:\n",
    "                print(\" \",\n",
    "                end=\"\")\n",
    "        print()"
   ]
  },
  {
   "cell_type": "code",
   "execution_count": null,
   "metadata": {},
   "outputs": [],
   "source": [
    "n=8\n",
    "elem=\"0\"\n",
    "\n",
    "\n",
    "pattern_print(n,elem)"
   ]
  },
  {
   "cell_type": "markdown",
   "metadata": {},
   "source": [
    "### Question - 2 :\n",
    "#### Create a car class with three attributes: year, mpg, speed and list of owners. The class also should have 2 methods called accelerate and brake. Whenever the car accelerates, its speed is increased by 30 and whenever the car brakes, its speed is reduced by 60.add a constructor to the class, which takes year, mpg, and speed as input implement a magic method that prints the car information including year,speed,andmpg.That is,for a car object, car1=car(2016, 20, 80), print(car) command should print car year 2016 mpg 20 speed 80.Implement a python function that creates two car objects with the specs “car1=car(2016, 20, 80)” and “car2=car(2013, 25, 60)”, and record the list of previous owners specified for each car to these objects. This function should simply return the two car objects after the above operations are done, as indicated in below function call."
   ]
  },
  {
   "cell_type": "code",
   "execution_count": null,
   "metadata": {},
   "outputs": [],
   "source": [
    "class Car:\n",
    "    def __init__(self,year,mpg,speed):\n",
    "        self.year=year\n",
    "        self.mpg=mpg\n",
    "        self.speed=speed\n",
    "        self.list_of_owners=[]\n",
    "        \n",
    "    def accelerate(self):\n",
    "        self.speed+=30\n",
    "\n",
    "    def brake(self):\n",
    "        self.speed-=60 \n",
    "\n",
    "    def __str__(self):\n",
    "        return f'Car year {self.year} mpg {self.mpg} speed {self.speed}'\n",
    "\n",
    "\n",
    "    def add_owner(self,list_item):\n",
    "        self.list_of_owners.append(list_item)\n",
    "\n",
    "def test_carObj():\n",
    "    car1=Car(2016, 20, 80)\n",
    "    car2=Car(2013, 25, 60)\n",
    "    car1.add_owner(\"Ayesha\")\n",
    "    car2.add_owner(\"Safa\")\n",
    "    car1.add_owner(\"Himanshu\")\n",
    "\n",
    "    print(car1)\n",
    "    print(car2)\n",
    "\n",
    "    car1.accelerate()\n",
    "    car2.brake()\n",
    "\n",
    "    print(car1)\n",
    "    print(car2)\n",
    "\n",
    "    print(car1.list_of_owners)\n",
    "    \n",
    "\n",
    "test_carObj()"
   ]
  }
 ],
 "metadata": {
  "kernelspec": {
   "display_name": "Python 3.10.6 64-bit",
   "language": "python",
   "name": "python3"
  },
  "language_info": {
   "codemirror_mode": {
    "name": "ipython",
    "version": 3
   },
   "file_extension": ".py",
   "mimetype": "text/x-python",
   "name": "python",
   "nbconvert_exporter": "python",
   "pygments_lexer": "ipython3",
   "version": "3.10.6"
  },
  "orig_nbformat": 4,
  "vscode": {
   "interpreter": {
    "hash": "26de051ba29f2982a8de78e945f0abaf191376122a1563185a90213a26c5da77"
   }
  }
 },
 "nbformat": 4,
 "nbformat_minor": 2
}
